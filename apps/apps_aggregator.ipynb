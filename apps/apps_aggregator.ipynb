{
 "cells": [
  {
   "cell_type": "code",
   "execution_count": 14,
   "metadata": {},
   "outputs": [],
   "source": [
    "import json\n",
    "from datasets import load_dataset, Dataset"
   ]
  },
  {
   "cell_type": "code",
   "execution_count": null,
   "metadata": {},
   "outputs": [],
   "source": [
    "ds = load_dataset(\"Elfsong/APPS\", \"verified\")"
   ]
  },
  {
   "cell_type": "code",
   "execution_count": 15,
   "metadata": {},
   "outputs": [
    {
     "name": "stdout",
     "output_type": "stream",
     "text": [
      "Dataset Config Not Found: 71_72\n",
      "Dataset Config Not Found: 84_85\n"
     ]
    },
    {
     "data": {
      "application/vnd.jupyter.widget-view+json": {
       "model_id": "9134424627a24910836f41aa8d9d89e2",
       "version_major": 2,
       "version_minor": 0
      },
      "text/plain": [
       "Uploading the dataset shards:   0%|          | 0/1 [00:00<?, ?it/s]"
      ]
     },
     "metadata": {},
     "output_type": "display_data"
    },
    {
     "data": {
      "application/vnd.jupyter.widget-view+json": {
       "model_id": "bd32aff86ee841d8ad73bda24427f5b1",
       "version_major": 2,
       "version_minor": 0
      },
      "text/plain": [
       "Creating parquet from Arrow format:   0%|          | 0/3 [00:00<?, ?ba/s]"
      ]
     },
     "metadata": {},
     "output_type": "display_data"
    },
    {
     "data": {
      "application/vnd.jupyter.widget-view+json": {
       "model_id": "4134c7c74cb640dd84ab4781c1724329",
       "version_major": 2,
       "version_minor": 0
      },
      "text/plain": [
       "README.md:   0%|          | 0.00/1.86k [00:00<?, ?B/s]"
      ]
     },
     "metadata": {},
     "output_type": "display_data"
    },
    {
     "data": {
      "text/plain": [
       "CommitInfo(commit_url='https://huggingface.co/datasets/Elfsong/apps_verified/commit/e11ad12818b4a09ebb6b2cc55ccf16eacc50fa52', commit_message='Upload dataset', commit_description='', oid='e11ad12818b4a09ebb6b2cc55ccf16eacc50fa52', pr_url=None, pr_revision=None, pr_num=None)"
      ]
     },
     "execution_count": 15,
     "metadata": {},
     "output_type": "execute_result"
    }
   ],
   "source": [
    "instances = list()\n",
    "\n",
    "for index in range(100):\n",
    "    dataset_config = f'{index}_{index+1}'\n",
    "    \n",
    "    try:\n",
    "        curernt_ds = ds[dataset_config]\n",
    "        for instance in curernt_ds:\n",
    "            solutions = json.loads(instance['solutions'])\n",
    "            if len(solutions) > 0:\n",
    "                instances.append(instance)\n",
    "\n",
    "    except KeyError as e:\n",
    "        print(f'Dataset Config Not Found: {dataset_config}')\n",
    "        \n",
    "new_ds = Dataset.from_list(instances)\n",
    "new_ds.push_to_hub(\"Elfsong/apps_verified\")"
   ]
  },
  {
   "cell_type": "code",
   "execution_count": 16,
   "metadata": {},
   "outputs": [
    {
     "name": "stdout",
     "output_type": "stream",
     "text": [
      "Collecting streamlit-extras\n",
      "  Downloading streamlit_extras-0.6.0-py3-none-any.whl.metadata (4.0 kB)\n",
      "Collecting entrypoints>=0.4 (from streamlit-extras)\n",
      "  Downloading entrypoints-0.4-py3-none-any.whl.metadata (2.6 kB)\n",
      "Collecting htbuilder>=0.6.2 (from streamlit-extras)\n",
      "  Downloading htbuilder-0.9.0.tar.gz (10 kB)\n",
      "  Preparing metadata (setup.py) ... \u001b[?25ldone\n",
      "\u001b[?25hCollecting markdownlit>=0.0.5 (from streamlit-extras)\n",
      "  Downloading markdownlit-0.0.7-py3-none-any.whl.metadata (14 kB)\n",
      "Collecting plotly>=1.0.0 (from streamlit-extras)\n",
      "  Downloading plotly-6.0.1-py3-none-any.whl.metadata (6.7 kB)\n",
      "Requirement already satisfied: prometheus-client>=0.14.0 in /opt/homebrew/anaconda3/envs/workspace/lib/python3.10/site-packages (from streamlit-extras) (0.21.0)\n",
      "Requirement already satisfied: protobuf!=3.20.2 in /opt/homebrew/anaconda3/envs/workspace/lib/python3.10/site-packages (from streamlit-extras) (4.25.5)\n",
      "Collecting st-annotated-text>=3.0.0 (from streamlit-extras)\n",
      "  Downloading st_annotated_text-4.0.2-py3-none-any.whl.metadata (2.4 kB)\n",
      "Collecting st-theme>=1.0.1 (from streamlit-extras)\n",
      "  Downloading st_theme-1.2.3-py3-none-any.whl.metadata (6.9 kB)\n",
      "Requirement already satisfied: streamlit>=1.0.0 in /opt/homebrew/anaconda3/envs/workspace/lib/python3.10/site-packages (from streamlit-extras) (1.35.0)\n",
      "Collecting streamlit-avatar>=0.1.3 (from streamlit-extras)\n",
      "  Downloading streamlit_avatar-0.1.3-py3-none-any.whl.metadata (2.1 kB)\n",
      "Collecting streamlit-camera-input-live>=0.2.0 (from streamlit-extras)\n",
      "  Downloading streamlit_camera_input_live-0.2.0-py3-none-any.whl.metadata (1.5 kB)\n",
      "Collecting streamlit-card>=0.0.4 (from streamlit-extras)\n",
      "  Downloading streamlit_card-1.0.2-py3-none-any.whl.metadata (4.0 kB)\n",
      "Collecting streamlit-embedcode>=0.1.2 (from streamlit-extras)\n",
      "  Downloading streamlit_embedcode-0.1.2-py3-none-any.whl.metadata (414 bytes)\n",
      "Collecting streamlit-faker>=0.0.2 (from streamlit-extras)\n",
      "  Downloading streamlit_faker-0.0.3-py3-none-any.whl.metadata (2.0 kB)\n",
      "Collecting streamlit-image-coordinates<0.2.0,>=0.1.1 (from streamlit-extras)\n",
      "  Downloading streamlit_image_coordinates-0.1.9-py3-none-any.whl.metadata (2.0 kB)\n",
      "Collecting streamlit-keyup>=0.1.9 (from streamlit-extras)\n",
      "  Downloading streamlit_keyup-0.3.0-py3-none-any.whl.metadata (2.0 kB)\n",
      "Collecting streamlit-toggle-switch>=1.0.2 (from streamlit-extras)\n",
      "  Downloading streamlit_toggle_switch-1.0.2-py3-none-any.whl.metadata (395 bytes)\n",
      "Collecting streamlit-vertical-slider>=2.5.5 (from streamlit-extras)\n",
      "  Downloading streamlit_vertical_slider-2.5.5-py3-none-any.whl.metadata (2.2 kB)\n",
      "Requirement already satisfied: validators>=0.20.0 in /opt/homebrew/anaconda3/envs/workspace/lib/python3.10/site-packages (from streamlit-extras) (0.33.0)\n",
      "Requirement already satisfied: markdown in /opt/homebrew/anaconda3/envs/workspace/lib/python3.10/site-packages (from markdownlit>=0.0.5->streamlit-extras) (3.7)\n",
      "Collecting lxml (from markdownlit>=0.0.5->streamlit-extras)\n",
      "  Downloading lxml-5.3.1-cp310-cp310-macosx_10_9_universal2.whl.metadata (3.7 kB)\n",
      "Collecting favicon (from markdownlit>=0.0.5->streamlit-extras)\n",
      "  Downloading favicon-0.7.0-py2.py3-none-any.whl.metadata (4.9 kB)\n",
      "Collecting pymdown-extensions (from markdownlit>=0.0.5->streamlit-extras)\n",
      "  Downloading pymdown_extensions-10.14.3-py3-none-any.whl.metadata (3.0 kB)\n",
      "Collecting narwhals>=1.15.1 (from plotly>=1.0.0->streamlit-extras)\n",
      "  Downloading narwhals-1.31.0-py3-none-any.whl.metadata (11 kB)\n",
      "Requirement already satisfied: packaging in /opt/homebrew/anaconda3/envs/workspace/lib/python3.10/site-packages (from plotly>=1.0.0->streamlit-extras) (24.1)\n",
      "Requirement already satisfied: altair<6,>=4.0 in /opt/homebrew/anaconda3/envs/workspace/lib/python3.10/site-packages (from streamlit>=1.0.0->streamlit-extras) (5.3.0)\n",
      "Requirement already satisfied: blinker<2,>=1.0.0 in /opt/homebrew/anaconda3/envs/workspace/lib/python3.10/site-packages (from streamlit>=1.0.0->streamlit-extras) (1.8.2)\n",
      "Requirement already satisfied: cachetools<6,>=4.0 in /opt/homebrew/anaconda3/envs/workspace/lib/python3.10/site-packages (from streamlit>=1.0.0->streamlit-extras) (5.3.3)\n",
      "Requirement already satisfied: click<9,>=7.0 in /opt/homebrew/anaconda3/envs/workspace/lib/python3.10/site-packages (from streamlit>=1.0.0->streamlit-extras) (8.1.7)\n",
      "Requirement already satisfied: numpy<2,>=1.19.3 in /opt/homebrew/anaconda3/envs/workspace/lib/python3.10/site-packages (from streamlit>=1.0.0->streamlit-extras) (1.26.4)\n",
      "Requirement already satisfied: pandas<3,>=1.3.0 in /opt/homebrew/anaconda3/envs/workspace/lib/python3.10/site-packages (from streamlit>=1.0.0->streamlit-extras) (2.2.2)\n",
      "Requirement already satisfied: pillow<11,>=7.1.0 in /opt/homebrew/anaconda3/envs/workspace/lib/python3.10/site-packages (from streamlit>=1.0.0->streamlit-extras) (10.3.0)\n",
      "Requirement already satisfied: pyarrow>=7.0 in /opt/homebrew/anaconda3/envs/workspace/lib/python3.10/site-packages (from streamlit>=1.0.0->streamlit-extras) (16.1.0)\n",
      "Requirement already satisfied: requests<3,>=2.27 in /opt/homebrew/anaconda3/envs/workspace/lib/python3.10/site-packages (from streamlit>=1.0.0->streamlit-extras) (2.32.3)\n",
      "Requirement already satisfied: rich<14,>=10.14.0 in /opt/homebrew/anaconda3/envs/workspace/lib/python3.10/site-packages (from streamlit>=1.0.0->streamlit-extras) (13.7.1)\n",
      "Requirement already satisfied: tenacity<9,>=8.1.0 in /opt/homebrew/anaconda3/envs/workspace/lib/python3.10/site-packages (from streamlit>=1.0.0->streamlit-extras) (8.5.0)\n",
      "Requirement already satisfied: toml<2,>=0.10.1 in /opt/homebrew/anaconda3/envs/workspace/lib/python3.10/site-packages (from streamlit>=1.0.0->streamlit-extras) (0.10.2)\n",
      "Requirement already satisfied: typing-extensions<5,>=4.3.0 in /opt/homebrew/anaconda3/envs/workspace/lib/python3.10/site-packages (from streamlit>=1.0.0->streamlit-extras) (4.12.2)\n",
      "Requirement already satisfied: gitpython!=3.1.19,<4,>=3.0.7 in /opt/homebrew/anaconda3/envs/workspace/lib/python3.10/site-packages (from streamlit>=1.0.0->streamlit-extras) (3.1.43)\n",
      "Requirement already satisfied: pydeck<1,>=0.8.0b4 in /opt/homebrew/anaconda3/envs/workspace/lib/python3.10/site-packages (from streamlit>=1.0.0->streamlit-extras) (0.9.1)\n",
      "Requirement already satisfied: tornado<7,>=6.0.3 in /opt/homebrew/anaconda3/envs/workspace/lib/python3.10/site-packages (from streamlit>=1.0.0->streamlit-extras) (6.4.1)\n",
      "Requirement already satisfied: jinja2 in /opt/homebrew/anaconda3/envs/workspace/lib/python3.10/site-packages (from streamlit-camera-input-live>=0.2.0->streamlit-extras) (3.1.4)\n",
      "Collecting faker (from streamlit-faker>=0.0.2->streamlit-extras)\n",
      "  Downloading faker-37.0.2-py3-none-any.whl.metadata (15 kB)\n",
      "Requirement already satisfied: matplotlib in /opt/homebrew/anaconda3/envs/workspace/lib/python3.10/site-packages (from streamlit-faker>=0.0.2->streamlit-extras) (3.9.2)\n",
      "Requirement already satisfied: jsonschema>=3.0 in /opt/homebrew/anaconda3/envs/workspace/lib/python3.10/site-packages (from altair<6,>=4.0->streamlit>=1.0.0->streamlit-extras) (4.22.0)\n",
      "Requirement already satisfied: toolz in /opt/homebrew/anaconda3/envs/workspace/lib/python3.10/site-packages (from altair<6,>=4.0->streamlit>=1.0.0->streamlit-extras) (0.12.1)\n",
      "Requirement already satisfied: gitdb<5,>=4.0.1 in /opt/homebrew/anaconda3/envs/workspace/lib/python3.10/site-packages (from gitpython!=3.1.19,<4,>=3.0.7->streamlit>=1.0.0->streamlit-extras) (4.0.11)\n",
      "Requirement already satisfied: python-dateutil>=2.8.2 in /opt/homebrew/anaconda3/envs/workspace/lib/python3.10/site-packages (from pandas<3,>=1.3.0->streamlit>=1.0.0->streamlit-extras) (2.9.0)\n",
      "Requirement already satisfied: pytz>=2020.1 in /opt/homebrew/anaconda3/envs/workspace/lib/python3.10/site-packages (from pandas<3,>=1.3.0->streamlit>=1.0.0->streamlit-extras) (2024.1)\n",
      "Requirement already satisfied: tzdata>=2022.7 in /opt/homebrew/anaconda3/envs/workspace/lib/python3.10/site-packages (from pandas<3,>=1.3.0->streamlit>=1.0.0->streamlit-extras) (2024.1)\n",
      "Requirement already satisfied: MarkupSafe>=2.0 in /opt/homebrew/anaconda3/envs/workspace/lib/python3.10/site-packages (from jinja2->streamlit-camera-input-live>=0.2.0->streamlit-extras) (2.1.3)\n",
      "Requirement already satisfied: charset-normalizer<4,>=2 in /opt/homebrew/anaconda3/envs/workspace/lib/python3.10/site-packages (from requests<3,>=2.27->streamlit>=1.0.0->streamlit-extras) (3.3.2)\n",
      "Requirement already satisfied: idna<4,>=2.5 in /opt/homebrew/anaconda3/envs/workspace/lib/python3.10/site-packages (from requests<3,>=2.27->streamlit>=1.0.0->streamlit-extras) (3.7)\n",
      "Requirement already satisfied: urllib3<3,>=1.21.1 in /opt/homebrew/anaconda3/envs/workspace/lib/python3.10/site-packages (from requests<3,>=2.27->streamlit>=1.0.0->streamlit-extras) (2.2.1)\n",
      "Requirement already satisfied: certifi>=2017.4.17 in /opt/homebrew/anaconda3/envs/workspace/lib/python3.10/site-packages (from requests<3,>=2.27->streamlit>=1.0.0->streamlit-extras) (2024.6.2)\n",
      "Requirement already satisfied: markdown-it-py>=2.2.0 in /opt/homebrew/anaconda3/envs/workspace/lib/python3.10/site-packages (from rich<14,>=10.14.0->streamlit>=1.0.0->streamlit-extras) (3.0.0)\n",
      "Requirement already satisfied: pygments<3.0.0,>=2.13.0 in /opt/homebrew/anaconda3/envs/workspace/lib/python3.10/site-packages (from rich<14,>=10.14.0->streamlit>=1.0.0->streamlit-extras) (2.18.0)\n",
      "Requirement already satisfied: beautifulsoup4>=4.7.0 in /opt/homebrew/anaconda3/envs/workspace/lib/python3.10/site-packages (from favicon->markdownlit>=0.0.5->streamlit-extras) (4.12.3)\n",
      "Requirement already satisfied: contourpy>=1.0.1 in /opt/homebrew/anaconda3/envs/workspace/lib/python3.10/site-packages (from matplotlib->streamlit-faker>=0.0.2->streamlit-extras) (1.3.0)\n",
      "Requirement already satisfied: cycler>=0.10 in /opt/homebrew/anaconda3/envs/workspace/lib/python3.10/site-packages (from matplotlib->streamlit-faker>=0.0.2->streamlit-extras) (0.12.1)\n",
      "Requirement already satisfied: fonttools>=4.22.0 in /opt/homebrew/anaconda3/envs/workspace/lib/python3.10/site-packages (from matplotlib->streamlit-faker>=0.0.2->streamlit-extras) (4.54.1)\n",
      "Requirement already satisfied: kiwisolver>=1.3.1 in /opt/homebrew/anaconda3/envs/workspace/lib/python3.10/site-packages (from matplotlib->streamlit-faker>=0.0.2->streamlit-extras) (1.4.7)\n",
      "Requirement already satisfied: pyparsing>=2.3.1 in /opt/homebrew/anaconda3/envs/workspace/lib/python3.10/site-packages (from matplotlib->streamlit-faker>=0.0.2->streamlit-extras) (3.1.4)\n",
      "Requirement already satisfied: pyyaml in /opt/homebrew/anaconda3/envs/workspace/lib/python3.10/site-packages (from pymdown-extensions->markdownlit>=0.0.5->streamlit-extras) (6.0.1)\n",
      "Requirement already satisfied: soupsieve>1.2 in /opt/homebrew/anaconda3/envs/workspace/lib/python3.10/site-packages (from beautifulsoup4>=4.7.0->favicon->markdownlit>=0.0.5->streamlit-extras) (2.5)\n",
      "Requirement already satisfied: smmap<6,>=3.0.1 in /opt/homebrew/anaconda3/envs/workspace/lib/python3.10/site-packages (from gitdb<5,>=4.0.1->gitpython!=3.1.19,<4,>=3.0.7->streamlit>=1.0.0->streamlit-extras) (5.0.1)\n",
      "Requirement already satisfied: attrs>=22.2.0 in /opt/homebrew/anaconda3/envs/workspace/lib/python3.10/site-packages (from jsonschema>=3.0->altair<6,>=4.0->streamlit>=1.0.0->streamlit-extras) (23.2.0)\n",
      "Requirement already satisfied: jsonschema-specifications>=2023.03.6 in /opt/homebrew/anaconda3/envs/workspace/lib/python3.10/site-packages (from jsonschema>=3.0->altair<6,>=4.0->streamlit>=1.0.0->streamlit-extras) (2023.12.1)\n",
      "Requirement already satisfied: referencing>=0.28.4 in /opt/homebrew/anaconda3/envs/workspace/lib/python3.10/site-packages (from jsonschema>=3.0->altair<6,>=4.0->streamlit>=1.0.0->streamlit-extras) (0.35.1)\n",
      "Requirement already satisfied: rpds-py>=0.7.1 in /opt/homebrew/anaconda3/envs/workspace/lib/python3.10/site-packages (from jsonschema>=3.0->altair<6,>=4.0->streamlit>=1.0.0->streamlit-extras) (0.18.1)\n",
      "Requirement already satisfied: mdurl~=0.1 in /opt/homebrew/anaconda3/envs/workspace/lib/python3.10/site-packages (from markdown-it-py>=2.2.0->rich<14,>=10.14.0->streamlit>=1.0.0->streamlit-extras) (0.1.2)\n",
      "Requirement already satisfied: six>=1.5 in /opt/homebrew/anaconda3/envs/workspace/lib/python3.10/site-packages (from python-dateutil>=2.8.2->pandas<3,>=1.3.0->streamlit>=1.0.0->streamlit-extras) (1.16.0)\n",
      "Downloading streamlit_extras-0.6.0-py3-none-any.whl (85 kB)\n",
      "\u001b[2K   \u001b[90m━━━━━━━━━━━━━━━━━━━━━━━━━━━━━━━━━━━━━━━━\u001b[0m \u001b[32m85.3/85.3 kB\u001b[0m \u001b[31m4.1 MB/s\u001b[0m eta \u001b[36m0:00:00\u001b[0m\n",
      "\u001b[?25hDownloading entrypoints-0.4-py3-none-any.whl (5.3 kB)\n",
      "Downloading markdownlit-0.0.7-py3-none-any.whl (15 kB)\n",
      "Downloading plotly-6.0.1-py3-none-any.whl (14.8 MB)\n",
      "\u001b[2K   \u001b[90m━━━━━━━━━━━━━━━━━━━━━━━━━━━━━━━━━━━━━━━━\u001b[0m \u001b[32m14.8/14.8 MB\u001b[0m \u001b[31m35.0 MB/s\u001b[0m eta \u001b[36m0:00:00\u001b[0m00:01\u001b[0m00:01\u001b[0m\n",
      "\u001b[?25hDownloading st_annotated_text-4.0.2-py3-none-any.whl (9.1 kB)\n",
      "Downloading st_theme-1.2.3-py3-none-any.whl (75 kB)\n",
      "\u001b[2K   \u001b[90m━━━━━━━━━━━━━━━━━━━━━━━━━━━━━━━━━━━━━━━━\u001b[0m \u001b[32m75.2/75.2 kB\u001b[0m \u001b[31m7.9 MB/s\u001b[0m eta \u001b[36m0:00:00\u001b[0m\n",
      "\u001b[?25hDownloading streamlit_avatar-0.1.3-py3-none-any.whl (779 kB)\n",
      "\u001b[2K   \u001b[90m━━━━━━━━━━━━━━━━━━━━━━━━━━━━━━━━━━━━━━━━\u001b[0m \u001b[32m779.6/779.6 kB\u001b[0m \u001b[31m33.0 MB/s\u001b[0m eta \u001b[36m0:00:00\u001b[0m\n",
      "\u001b[?25hDownloading streamlit_camera_input_live-0.2.0-py3-none-any.whl (6.6 kB)\n",
      "Downloading streamlit_card-1.0.2-py3-none-any.whl (680 kB)\n",
      "\u001b[2K   \u001b[90m━━━━━━━━━━━━━━━━━━━━━━━━━━━━━━━━━━━━━━━━\u001b[0m \u001b[32m680.8/680.8 kB\u001b[0m \u001b[31m28.7 MB/s\u001b[0m eta \u001b[36m0:00:00\u001b[0m\n",
      "\u001b[?25hDownloading streamlit_embedcode-0.1.2-py3-none-any.whl (3.5 kB)\n",
      "Downloading streamlit_faker-0.0.3-py3-none-any.whl (14 kB)\n",
      "Downloading streamlit_image_coordinates-0.1.9-py3-none-any.whl (7.0 kB)\n",
      "Downloading streamlit_keyup-0.3.0-py3-none-any.whl (7.5 kB)\n",
      "Downloading streamlit_toggle_switch-1.0.2-py3-none-any.whl (635 kB)\n",
      "\u001b[2K   \u001b[90m━━━━━━━━━━━━━━━━━━━━━━━━━━━━━━━━━━━━━━━━\u001b[0m \u001b[32m635.4/635.4 kB\u001b[0m \u001b[31m24.1 MB/s\u001b[0m eta \u001b[36m0:00:00\u001b[0m\n",
      "\u001b[?25hDownloading streamlit_vertical_slider-2.5.5-py3-none-any.whl (1.8 MB)\n",
      "\u001b[2K   \u001b[90m━━━━━━━━━━━━━━━━━━━━━━━━━━━━━━━━━━━━━━━━\u001b[0m \u001b[32m1.8/1.8 MB\u001b[0m \u001b[31m30.1 MB/s\u001b[0m eta \u001b[36m0:00:00\u001b[0ma \u001b[36m0:00:01\u001b[0m\n",
      "\u001b[?25hDownloading narwhals-1.31.0-py3-none-any.whl (313 kB)\n",
      "\u001b[2K   \u001b[90m━━━━━━━━━━━━━━━━━━━━━━━━━━━━━━━━━━━━━━━━\u001b[0m \u001b[32m313.1/313.1 kB\u001b[0m \u001b[31m21.2 MB/s\u001b[0m eta \u001b[36m0:00:00\u001b[0m\n",
      "\u001b[?25hDownloading faker-37.0.2-py3-none-any.whl (1.9 MB)\n",
      "\u001b[2K   \u001b[90m━━━━━━━━━━━━━━━━━━━━━━━━━━━━━━━━━━━━━━━━\u001b[0m \u001b[32m1.9/1.9 MB\u001b[0m \u001b[31m32.5 MB/s\u001b[0m eta \u001b[36m0:00:00\u001b[0ma \u001b[36m0:00:01\u001b[0m\n",
      "\u001b[?25hDownloading favicon-0.7.0-py2.py3-none-any.whl (5.9 kB)\n",
      "Downloading lxml-5.3.1-cp310-cp310-macosx_10_9_universal2.whl (8.1 MB)\n",
      "\u001b[2K   \u001b[90m━━━━━━━━━━━━━━━━━━━━━━━━━━━━━━━━━━━━━━━━\u001b[0m \u001b[32m8.1/8.1 MB\u001b[0m \u001b[31m34.8 MB/s\u001b[0m eta \u001b[36m0:00:00\u001b[0ma \u001b[36m0:00:01\u001b[0m\n",
      "\u001b[?25hDownloading pymdown_extensions-10.14.3-py3-none-any.whl (264 kB)\n",
      "\u001b[2K   \u001b[90m━━━━━━━━━━━━━━━━━━━━━━━━━━━━━━━━━━━━━━━━\u001b[0m \u001b[32m264.5/264.5 kB\u001b[0m \u001b[31m19.9 MB/s\u001b[0m eta \u001b[36m0:00:00\u001b[0m\n",
      "\u001b[?25hBuilding wheels for collected packages: htbuilder\n",
      "  Building wheel for htbuilder (setup.py) ... \u001b[?25ldone\n",
      "\u001b[?25h  Created wheel for htbuilder: filename=htbuilder-0.9.0-py3-none-any.whl size=12786 sha256=168044367311619223ae495efd8e360d69ef7797eec675969a72b4c8ff482b2f\n",
      "  Stored in directory: /Users/mingzhe/Library/Caches/pip/wheels/67/12/89/84dc855980410b46ec6ecefbf4ce890b6e3b9a979b605275b7\n",
      "Successfully built htbuilder\n",
      "Installing collected packages: pymdown-extensions, narwhals, lxml, htbuilder, faker, entrypoints, st-annotated-text, plotly, favicon, streamlit-vertical-slider, streamlit-toggle-switch, streamlit-keyup, streamlit-image-coordinates, streamlit-embedcode, streamlit-card, streamlit-camera-input-live, streamlit-avatar, st-theme, streamlit-faker, markdownlit, streamlit-extras\n",
      "Successfully installed entrypoints-0.4 faker-37.0.2 favicon-0.7.0 htbuilder-0.9.0 lxml-5.3.1 markdownlit-0.0.7 narwhals-1.31.0 plotly-6.0.1 pymdown-extensions-10.14.3 st-annotated-text-4.0.2 st-theme-1.2.3 streamlit-avatar-0.1.3 streamlit-camera-input-live-0.2.0 streamlit-card-1.0.2 streamlit-embedcode-0.1.2 streamlit-extras-0.6.0 streamlit-faker-0.0.3 streamlit-image-coordinates-0.1.9 streamlit-keyup-0.3.0 streamlit-toggle-switch-1.0.2 streamlit-vertical-slider-2.5.5\n"
     ]
    }
   ],
   "source": [
    "!pip install streamlit-extras"
   ]
  },
  {
   "cell_type": "code",
   "execution_count": null,
   "metadata": {},
   "outputs": [],
   "source": []
  }
 ],
 "metadata": {
  "kernelspec": {
   "display_name": "workspace",
   "language": "python",
   "name": "python3"
  },
  "language_info": {
   "codemirror_mode": {
    "name": "ipython",
    "version": 3
   },
   "file_extension": ".py",
   "mimetype": "text/x-python",
   "name": "python",
   "nbconvert_exporter": "python",
   "pygments_lexer": "ipython3",
   "version": "3.10.14"
  }
 },
 "nbformat": 4,
 "nbformat_minor": 2
}
