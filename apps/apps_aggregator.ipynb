{
 "cells": [
  {
   "cell_type": "code",
   "execution_count": 14,
   "metadata": {},
   "outputs": [],
   "source": [
    "import json\n",
    "from datasets import load_dataset, Dataset"
   ]
  },
  {
   "cell_type": "code",
   "execution_count": null,
   "metadata": {},
   "outputs": [],
   "source": [
    "ds = load_dataset(\"Elfsong/APPS\", \"verified\")"
   ]
  },
  {
   "cell_type": "code",
   "execution_count": null,
   "metadata": {},
   "outputs": [],
   "source": [
    "instances = list()\n",
    "\n",
    "for index in range(100):\n",
    "    dataset_config = f'{index}_{index+1}'\n",
    "    \n",
    "    try:\n",
    "        curernt_ds = ds[dataset_config]\n",
    "        for instance in curernt_ds:\n",
    "            solutions = json.loads(instance['solutions'])\n",
    "            if len(solutions) > 0:\n",
    "                instances.append(instance)\n",
    "\n",
    "    except KeyError as e:\n",
    "        print(f'Dataset Config Not Found: {dataset_config}')\n",
    "        \n",
    "new_ds = Dataset.from_list(instances)\n",
    "new_ds.push_to_hub(\"Elfsong/apps_verified\")"
   ]
  },
  {
   "cell_type": "code",
   "execution_count": null,
   "metadata": {},
   "outputs": [],
   "source": [
    "!pip install streamlit-extras"
   ]
  },
  {
   "cell_type": "code",
   "execution_count": 37,
   "metadata": {},
   "outputs": [],
   "source": [
    "from monolith import monolith\n",
    "\n",
    "monolith = monolith.Monolith(backend_url='https://monolith.cool')\n",
    "\n",
    "# 1) Submit code to Monolith (POST)\n",
    "post_response = monolith.post_code_submit(\n",
    "    lang = 'python',\n",
    "    libs = ['numpy'],\n",
    "    code = 'import time\\ntime.sleep(10);print(\"Hello, World!\")',\n",
    "    timeout = 20,\n",
    "    profiling = True\n",
    ")\n",
    "\n",
    "# 2) Get async task_id from POST response\n",
    "task_id = post_response['task_id']"
   ]
  },
  {
   "cell_type": "code",
   "execution_count": 35,
   "metadata": {},
   "outputs": [],
   "source": [
    "# 4) Get the code result from Monolith (GET)\n",
    "response = monolith.get_code_result(task_id)"
   ]
  },
  {
   "cell_type": "code",
   "execution_count": null,
   "metadata": {},
   "outputs": [],
   "source": [
    "response"
   ]
  },
  {
   "cell_type": "code",
   "execution_count": null,
   "metadata": {},
   "outputs": [],
   "source": []
  }
 ],
 "metadata": {
  "kernelspec": {
   "display_name": "verl",
   "language": "python",
   "name": "python3"
  },
  "language_info": {
   "codemirror_mode": {
    "name": "ipython",
    "version": 3
   },
   "file_extension": ".py",
   "mimetype": "text/x-python",
   "name": "python",
   "nbconvert_exporter": "python",
   "pygments_lexer": "ipython3",
   "version": "3.10.0"
  }
 },
 "nbformat": 4,
 "nbformat_minor": 2
}
