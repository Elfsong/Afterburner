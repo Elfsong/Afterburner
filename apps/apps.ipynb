{
 "cells": [
  {
   "cell_type": "code",
   "execution_count": 8,
   "metadata": {},
   "outputs": [],
   "source": [
    "import sys\n",
    "sys.set_int_max_str_digits(0)\n",
    "\n",
    "import json\n",
    "from tqdm import tqdm\n",
    "from datasets import load_dataset, Dataset"
   ]
  },
  {
   "cell_type": "code",
   "execution_count": 11,
   "metadata": {},
   "outputs": [],
   "source": [
    "split = 'test'\n",
    "ds = load_dataset(\"codeparrot/apps\", \"all\", split=split)"
   ]
  },
  {
   "cell_type": "code",
   "execution_count": 12,
   "metadata": {},
   "outputs": [
    {
     "name": "stderr",
     "output_type": "stream",
     "text": [
      "100%|██████████| 5000/5000 [00:04<00:00, 1076.99it/s]\n"
     ]
    },
    {
     "data": {
      "application/vnd.jupyter.widget-view+json": {
       "model_id": "9f47b356195a42cd89dc034aff76acd3",
       "version_major": 2,
       "version_minor": 0
      },
      "text/plain": [
       "Uploading the dataset shards:   0%|          | 0/3 [00:00<?, ?it/s]"
      ]
     },
     "metadata": {},
     "output_type": "display_data"
    },
    {
     "data": {
      "application/vnd.jupyter.widget-view+json": {
       "model_id": "4219cce9f7774fbe9fd6440ad3ae2bc3",
       "version_major": 2,
       "version_minor": 0
      },
      "text/plain": [
       "Creating parquet from Arrow format:   0%|          | 0/2 [00:00<?, ?ba/s]"
      ]
     },
     "metadata": {},
     "output_type": "display_data"
    },
    {
     "data": {
      "application/vnd.jupyter.widget-view+json": {
       "model_id": "558f1512fd5242da9b64c7a3869a2ebc",
       "version_major": 2,
       "version_minor": 0
      },
      "text/plain": [
       "Creating parquet from Arrow format:   0%|          | 0/2 [00:00<?, ?ba/s]"
      ]
     },
     "metadata": {},
     "output_type": "display_data"
    },
    {
     "data": {
      "application/vnd.jupyter.widget-view+json": {
       "model_id": "70a83bc0236b4a6a9f9f961b7fdcdb6f",
       "version_major": 2,
       "version_minor": 0
      },
      "text/plain": [
       "Creating parquet from Arrow format:   0%|          | 0/2 [00:00<?, ?ba/s]"
      ]
     },
     "metadata": {},
     "output_type": "display_data"
    },
    {
     "data": {
      "application/vnd.jupyter.widget-view+json": {
       "model_id": "0439d97c11ed41b9b6f46873d0af99fd",
       "version_major": 2,
       "version_minor": 0
      },
      "text/plain": [
       "README.md:   0%|          | 0.00/476 [00:00<?, ?B/s]"
      ]
     },
     "metadata": {},
     "output_type": "display_data"
    },
    {
     "data": {
      "text/plain": [
       "CommitInfo(commit_url='https://huggingface.co/datasets/Elfsong/APPS/commit/008578fb8538e1c690c867e95e0d98d69c04c9c1', commit_message='Upload dataset', commit_description='', oid='008578fb8538e1c690c867e95e0d98d69c04c9c1', pr_url=None, repo_url=RepoUrl('https://huggingface.co/datasets/Elfsong/APPS', endpoint='https://huggingface.co', repo_type='dataset', repo_id='Elfsong/APPS'), pr_revision=None, pr_num=None)"
      ]
     },
     "execution_count": 12,
     "metadata": {},
     "output_type": "execute_result"
    }
   ],
   "source": [
    "instance_list = list()\n",
    "for instance in tqdm(ds):\n",
    "    try:\n",
    "        problem_id = instance[\"problem_id\"]\n",
    "        question = instance[\"question\"]\n",
    "        solutions = instance[\"solutions\"]\n",
    "        input_output = instance[\"input_output\"]\n",
    "        difficulty = instance[\"difficulty\"]\n",
    "        starter_code = instance[\"starter_code\"]\n",
    "\n",
    "        if not input_output: continue\n",
    "        if not solutions: continue\n",
    "        input_output = json.loads(input_output)\n",
    "        solutions = json.loads(instance[\"solutions\"])\n",
    "\n",
    "        test_cases = list()\n",
    "        for input_, output_ in zip(input_output[\"inputs\"], input_output[\"outputs\"]):\n",
    "            test_cases.append({\n",
    "                'input': input_,\n",
    "                'output': output_\n",
    "            })\n",
    "\n",
    "        instance = {\n",
    "            'problem_id': int(problem_id),\n",
    "            'question': str(question),\n",
    "            'solutions': json.dumps(solutions),\n",
    "            'test_cases': json.dumps(test_cases),\n",
    "            'difficulty': str(difficulty),\n",
    "            'starter_code': str(starter_code)\n",
    "        }\n",
    "        instance_list.append(instance)\n",
    "    except Exception as e:\n",
    "        print(e)\n",
    "\n",
    "ds = Dataset.from_list(instance_list)\n",
    "ds.push_to_hub(\"Elfsong/APPS\", split=split)"
   ]
  },
  {
   "cell_type": "code",
   "execution_count": null,
   "metadata": {},
   "outputs": [],
   "source": []
  },
  {
   "cell_type": "code",
   "execution_count": 2,
   "metadata": {},
   "outputs": [],
   "source": [
    "import requests"
   ]
  },
  {
   "cell_type": "code",
   "execution_count": 15,
   "metadata": {},
   "outputs": [],
   "source": [
    "def post_code_submit(libs, code: str, timeout: int, profiling: bool) -> str:\n",
    "    data = {\n",
    "        'language': \"python\",\n",
    "        'code': code,\n",
    "        'libraries': libs,\n",
    "        'timeout': timeout,\n",
    "        'run_memory_profile': profiling\n",
    "    }\n",
    "\n",
    "    response = requests.post('https://monolith.cool/execute', json=data)\n",
    "    task_id = response.json()['task_id']\n",
    "    return task_id\n",
    "\n",
    "def get_code_result(task_id: str) -> str:\n",
    "    response = requests.get(f'https://monolith.cool/results/{task_id}')\n",
    "    return response.json()"
   ]
  },
  {
   "cell_type": "code",
   "execution_count": 32,
   "metadata": {},
   "outputs": [],
   "source": [
    "with open('apps_template.py', 'r') as f:\n",
    "    code = f.read()"
   ]
  },
  {
   "cell_type": "code",
   "execution_count": 33,
   "metadata": {},
   "outputs": [],
   "source": [
    "task_id = post_code_submit([], code, 60, False)"
   ]
  },
  {
   "cell_type": "code",
   "execution_count": 37,
   "metadata": {},
   "outputs": [],
   "source": [
    "response = get_code_result(task_id)"
   ]
  },
  {
   "cell_type": "code",
   "execution_count": 39,
   "metadata": {},
   "outputs": [
    {
     "name": "stdout",
     "output_type": "stream",
     "text": [
      "test_case_1 (__main__.TestSolution) ... ok\n",
      "test_case_2 (__main__.TestSolution) ... ok\n",
      "test_case_3 (__main__.TestSolution) ... FAIL\n",
      "\n",
      "\n"
     ]
    }
   ],
   "source": [
    "print(response['output_dict']['stderr'].split('======================================================================')[0])"
   ]
  },
  {
   "cell_type": "code",
   "execution_count": 20,
   "metadata": {},
   "outputs": [],
   "source": [
    "ds = load_dataset(\"Elfsong/APPS\", split=\"test\")"
   ]
  },
  {
   "cell_type": "code",
   "execution_count": 20,
   "metadata": {},
   "outputs": [],
   "source": [
    "import json\n",
    "import textwrap"
   ]
  },
  {
   "cell_type": "code",
   "execution_count": 21,
   "metadata": {},
   "outputs": [
    {
     "name": "stdout",
     "output_type": "stream",
     "text": [
      "    a = int(input())\n",
      "    b = int(input())\n",
      "    print(a + b)\n"
     ]
    }
   ],
   "source": [
    "solution = \"\"\"\n",
    "a = int(input())\n",
    "b = int(input())\n",
    "print(a + b)\n",
    "\"\"\".strip()\n",
    "solution = textwrap.indent(solution, \"    \")\n",
    "print(solution)"
   ]
  },
  {
   "cell_type": "code",
   "execution_count": 24,
   "metadata": {},
   "outputs": [],
   "source": [
    "with open('apps_template', 'r') as f:\n",
    "    TEMPLATE = f.read()"
   ]
  },
  {
   "cell_type": "code",
   "execution_count": 25,
   "metadata": {},
   "outputs": [],
   "source": [
    "test_cases = [\n",
    "    {\"input\": \"1 2 3\\n\", \"output\": \"6\\n\"},\n",
    "    {\"input\": \"10 20 30\\n\", \"output\": \"60\\n\"}\n",
    "]\n",
    "\n",
    "test_case_list_str = json.dumps(test_cases, indent=4)"
   ]
  },
  {
   "cell_type": "code",
   "execution_count": 26,
   "metadata": {},
   "outputs": [],
   "source": [
    "final_code = TEMPLATE.format(\n",
    "    code_solution=solution,\n",
    "    test_case_list=test_case_list_str\n",
    ")"
   ]
  },
  {
   "cell_type": "code",
   "execution_count": 27,
   "metadata": {},
   "outputs": [
    {
     "name": "stdout",
     "output_type": "stream",
     "text": [
      "import io\n",
      "import sys\n",
      "import unittest\n",
      "\n",
      "def solution():\n",
      "    a = int(input())\n",
      "    b = int(input())\n",
      "    print(a + b)\n",
      "\n",
      "class TestSolution(unittest.TestCase):\n",
      "    def run_io_fun(self, input_data):\n",
      "        backup_stdin = sys.stdin\n",
      "        backup_stdout = sys.stdout\n",
      "        try:\n",
      "            sys.stdin = io.StringIO(input_data)\n",
      "            output_catcher = io.StringIO()\n",
      "            sys.stdout = output_catcher\n",
      "\n",
      "            solution()\n",
      "\n",
      "            output_catcher.seek(0)\n",
      "            return output_catcher.read()\n",
      "        finally:\n",
      "            sys.stdin = backup_stdin\n",
      "            sys.stdout = backup_stdout\n",
      "\n",
      "def make_test_function(input_data, expected):\n",
      "    def test_function(self):\n",
      "        actual = self.run_io_fun(input_data)\n",
      "        self.assertEqual(expected, actual)\n",
      "    return test_function\n",
      "\n",
      "test_case_list = [\n",
      "    {\n",
      "        \"input\": \"1 2 3\\n\",\n",
      "        \"output\": \"6\\n\"\n",
      "    },\n",
      "    {\n",
      "        \"input\": \"10 20 30\\n\",\n",
      "        \"output\": \"60\\n\"\n",
      "    }\n",
      "]\n",
      "\n",
      "for i, case in enumerate(test_case_list, start=1):\n",
      "    test_name = f\"test_case_{i}\"\n",
      "    test_func = make_test_function(case['input'], case['output'])\n",
      "    setattr(TestSolution, test_name, test_func)\n",
      "\n",
      "if __name__ == '__main__':\n",
      "    unittest.main(verbosity=2)\n"
     ]
    }
   ],
   "source": [
    "print(final_code)"
   ]
  },
  {
   "cell_type": "code",
   "execution_count": null,
   "metadata": {},
   "outputs": [],
   "source": []
  }
 ],
 "metadata": {
  "kernelspec": {
   "display_name": "workspace",
   "language": "python",
   "name": "python3"
  },
  "language_info": {
   "codemirror_mode": {
    "name": "ipython",
    "version": 3
   },
   "file_extension": ".py",
   "mimetype": "text/x-python",
   "name": "python",
   "nbconvert_exporter": "python",
   "pygments_lexer": "ipython3",
   "version": "3.10.16"
  }
 },
 "nbformat": 4,
 "nbformat_minor": 2
}
