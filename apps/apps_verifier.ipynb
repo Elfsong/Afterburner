{
 "cells": [
  {
   "cell_type": "code",
   "execution_count": 5,
   "metadata": {},
   "outputs": [],
   "source": [
    "import json\n",
    "from datasets import load_dataset, Dataset"
   ]
  },
  {
   "cell_type": "code",
   "execution_count": null,
   "metadata": {},
   "outputs": [],
   "source": [
    "apps_dataset = load_dataset(\"Elfsong/APPS_Verfied\", split=\"train\")\n",
    "print(\"original dataset size:\", len(apps_dataset))\n",
    "data_list = list()\n",
    "for instance in apps_dataset:\n",
    "    solutions = json.loads(instance['solutions'])\n",
    "    if len([instance for s in solutions if s['passed']]) < 1: continue\n",
    "    data_list.append(instance)\n",
    "print(\"filtered dataset size:\", len(data_list))\n",
    "ds = Dataset.from_list(data_list)\n",
    "dd = ds.train_test_split(test_size=0.3, seed=42)\n",
    "dd.push_to_hub(\"Elfsong/APPS_Python\", private=True)"
   ]
  },
  {
   "cell_type": "code",
   "execution_count": null,
   "metadata": {},
   "outputs": [],
   "source": []
  }
 ],
 "metadata": {
  "kernelspec": {
   "display_name": "verl",
   "language": "python",
   "name": "python3"
  },
  "language_info": {
   "codemirror_mode": {
    "name": "ipython",
    "version": 3
   },
   "file_extension": ".py",
   "mimetype": "text/x-python",
   "name": "python",
   "nbconvert_exporter": "python",
   "pygments_lexer": "ipython3",
   "version": "3.10.0"
  }
 },
 "nbformat": 4,
 "nbformat_minor": 2
}
