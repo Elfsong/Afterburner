{
 "cells": [
  {
   "cell_type": "code",
   "execution_count": 2,
   "metadata": {},
   "outputs": [],
   "source": [
    "from datasets import load_dataset\n",
    "from datasets import Dataset"
   ]
  },
  {
   "cell_type": "code",
   "execution_count": 3,
   "metadata": {},
   "outputs": [],
   "source": [
    "def rating_to_label(precentage):\n",
    "    if precentage < 0.2:\n",
    "        return \"A\"\n",
    "    elif 0.2 <= precentage < 0.4:\n",
    "        return \"B\"\n",
    "    elif 0.4 <= precentage < 0.6:\n",
    "        return \"C\"\n",
    "    elif 0.6 <= precentage < 0.8:\n",
    "        return \"D\"\n",
    "    else:\n",
    "        return \"E\""
   ]
  },
  {
   "cell_type": "code",
   "execution_count": 4,
   "metadata": {},
   "outputs": [],
   "source": [
    "def generate_data(lang):\n",
    "    ds = load_dataset(\"Elfsong/Venus\", lang)\n",
    "\n",
    "    training_data=list()\n",
    "    for instance in ds['train']:\n",
    "        # runtime\n",
    "        if instance['rt_list']:\n",
    "            min_rt, max_rt = min([int(sol['runtime']) for sol in instance['rt_list']]), max([int(sol['runtime']) for sol in instance['rt_list']])\n",
    "            for solution in instance['rt_list']:\n",
    "                code = solution['code']\n",
    "                runtime = int(solution['runtime'])\n",
    "                runtime_percent = (runtime - min_rt) / ((max_rt - min_rt) + 1e-6)\n",
    "                training_data.append({\n",
    "                    'code': code,\n",
    "                    'instruction': 'Estimate the runtime percentile ranking of the code.',\n",
    "                    'type': 'runtime',\n",
    "                    'value': runtime,\n",
    "                    'rating': rating_to_label(runtime_percent),\n",
    "                    'percent': runtime_percent,\n",
    "                    'percent_str': f'{runtime_percent:.3f}'\n",
    "                })\n",
    "        # memory\n",
    "        if instance['mm_list']:\n",
    "            min_mm, max_mm = min([int(sol['memory']) for sol in instance['mm_list']]), max([int(sol['memory']) for sol in instance['mm_list']])\n",
    "            for solution in instance['mm_list']:\n",
    "                code = solution['code']\n",
    "                memory = int(solution['memory'])\n",
    "                memory_percent = (memory - min_mm) / ((max_mm - min_mm) + 1e-6)\n",
    "                training_data.append({\n",
    "                    'code': code,\n",
    "                    'instruction': 'Estimate the memory percentile of the code',\n",
    "                    'type': 'memory',\n",
    "                    'value': memory,\n",
    "                    'rating': rating_to_label(memory_percent),\n",
    "                    'percent': memory_percent,\n",
    "                    'percent_str': f'{memory_percent:.3f}'\n",
    "                })\n",
    "    ds = Dataset.from_list(training_data)\n",
    "    ds = ds.train_test_split(test_size=0.2)\n",
    "    ds.push_to_hub(\"Elfsong/DenseRuntime\", lang)"
   ]
  },
  {
   "cell_type": "code",
   "execution_count": null,
   "metadata": {},
   "outputs": [],
   "source": [
    "langs = ['cpp', 'golang', 'java', 'javascript', 'python3', 'rust']\n",
    "\n",
    "for lang in langs:\n",
    "    print(f'Generating data for [{lang}] ...')\n",
    "    generate_data(lang)"
   ]
  },
  {
   "cell_type": "code",
   "execution_count": 1,
   "metadata": {},
   "outputs": [],
   "source": [
    "# Don't Worry, You Can't Break It. We Promise.\n",
    "import json\n",
    "import random\n",
    "import string\n",
    "from dataclasses import dataclass\n",
    "from typing import Any\n",
    "\n",
    "\n",
    "def generate_password(length=12):\n",
    "    characters = string.ascii_letters + string.digits + string.punctuation\n",
    "    password = ''.join(random.choice(characters) for _ in range(length))\n",
    "    return password\n",
    "\n",
    "\n",
    "@dataclass(frozen=True)\n",
    "class TestInput:\n",
    "    length: int\n",
    "\n",
    "TestOutput = str  # Alias for clarity\n",
    "\n",
    "\n",
    "class TestCaseGenerator:\n",
    "    @staticmethod\n",
    "    def generate_test_input() -> TestInput:\n",
    "        \"\"\"\n",
    "        Generates a random test input.\n",
    "        Here, the only input required is the password length,\n",
    "        which is randomly chosen between 8 and 20.\n",
    "        \"\"\"\n",
    "        length = random.randint(8, 20)\n",
    "        return TestInput(length=length)\n",
    "\n",
    "    @staticmethod\n",
    "    def generate_expected_output(test_input: TestInput) -> TestOutput:\n",
    "        \"\"\"\n",
    "        Generates the expected output by executing the password generation solution\n",
    "        with the input from TestInput.\n",
    "        \"\"\"\n",
    "        return generate_password(length=test_input.length)\n",
    "\n",
    "    @staticmethod\n",
    "    def serialize_input(obj: TestInput) -> str:\n",
    "        \"\"\"\n",
    "        Serializes the TestInput object to a JSON-formatted string.\n",
    "        \"\"\"\n",
    "        return json.dumps({\"length\": obj.length})\n",
    "\n",
    "    @staticmethod\n",
    "    def deserialize_input(s: str) -> TestInput:\n",
    "        \"\"\"\n",
    "        Deserializes the JSON-formatted string back to a TestInput object.\n",
    "        \"\"\"\n",
    "        data: Any = json.loads(s)\n",
    "        return TestInput(length=data[\"length\"])\n",
    "\n",
    "    @staticmethod\n",
    "    def serialize_output(obj: TestOutput) -> str:\n",
    "        \"\"\"\n",
    "        Serializes the TestOutput string to a JSON-formatted string.\n",
    "        \"\"\"\n",
    "        return json.dumps(obj)\n",
    "\n",
    "    @staticmethod\n",
    "    def deserialize_output(s: str) -> TestOutput:\n",
    "        \"\"\"\n",
    "        Deserializes the JSON-formatted string back to a TestOutput.\n",
    "        \"\"\"\n",
    "        return json.loads(s)\n",
    "\n",
    "\n",
    "test_case_generator = TestCaseGenerator()"
   ]
  },
  {
   "cell_type": "code",
   "execution_count": null,
   "metadata": {},
   "outputs": [],
   "source": [
    "cases = []\n",
    "for _ in range(5):\n",
    "    try:\n",
    "        test_input = test_case_generator.generate_test_input()\n",
    "        test_output = test_case_generator.generate_expected_output(test_input)\n",
    "        \n",
    "        test_input_str = test_case_generator.serialize_input(test_input)\n",
    "        test_input_restored = test_case_generator.deserialize_input(test_input_str)\n",
    "        \n",
    "        test_output_str = test_case_generator.serialize_output(test_output)\n",
    "        test_output_restored = test_case_generator.deserialize_output(test_output_str)\n",
    "        \n",
    "        test_output = test_case_generator.generate_expected_output(test_input_restored)\n",
    "        if test_output == test_output_restored:\n",
    "            cases.append({\"input\": test_input.__dict__, \"output\": test_output})\n",
    "    except Exception as e:\n",
    "        pass\n",
    "        \n",
    "print(\"<case_data>\")\n",
    "print(json.dumps(cases))\n",
    "print(\"</case_data>\")"
   ]
  },
  {
   "cell_type": "code",
   "execution_count": 2,
   "metadata": {},
   "outputs": [],
   "source": [
    "test_input = test_case_generator.generate_test_input()\n",
    "test_output = test_case_generator.generate_expected_output(test_input)"
   ]
  },
  {
   "cell_type": "code",
   "execution_count": null,
   "metadata": {},
   "outputs": [],
   "source": [
    "test_input"
   ]
  },
  {
   "cell_type": "code",
   "execution_count": null,
   "metadata": {},
   "outputs": [],
   "source": [
    "test_output"
   ]
  },
  {
   "cell_type": "code",
   "execution_count": 5,
   "metadata": {},
   "outputs": [],
   "source": [
    "test_input_str = test_case_generator.serialize_input(test_input)\n",
    "test_input_restored = test_case_generator.deserialize_input(test_input_str)"
   ]
  },
  {
   "cell_type": "code",
   "execution_count": null,
   "metadata": {},
   "outputs": [],
   "source": [
    "test_input_str"
   ]
  },
  {
   "cell_type": "code",
   "execution_count": 7,
   "metadata": {},
   "outputs": [],
   "source": [
    "test_output_str = test_case_generator.serialize_output(test_output)\n",
    "test_output_restored = test_case_generator.deserialize_output(test_output_str)"
   ]
  },
  {
   "cell_type": "code",
   "execution_count": 28,
   "metadata": {},
   "outputs": [],
   "source": [
    "from datasets import load_dataset, Dataset"
   ]
  },
  {
   "cell_type": "code",
   "execution_count": 29,
   "metadata": {},
   "outputs": [],
   "source": [
    "\n",
    "ds = load_dataset(\"Elfsong/Venus\", \"python3\")\n",
    "code_solutions = []\n",
    "for instance in ds['train']:\n",
    "    solutions = instance['rt_list'] + instance['mm_list']\n",
    "    solutions = [solution for solution in solutions if 'class Solution:' in solution['code']]\n",
    "    \n",
    "    for solution in random.sample(solutions, min(1, len(solutions))):\n",
    "        code_solutions.append({\n",
    "            \"solution_code\": solution['code'],\n",
    "            \"problem_id\": instance['question_id'],\n",
    "            'test_cases': \"\",\n",
    "            'test_case_generator_code': \"\",\n",
    "            'libraries': [],\n",
    "            'import_statements': \"\",\n",
    "            'executable_code': \"\",        \n",
    "        })"
   ]
  },
  {
   "cell_type": "code",
   "execution_count": null,
   "metadata": {},
   "outputs": [],
   "source": [
    "ds = Dataset.from_list(code_solutions)\n",
    "ds.push_to_hub(\"Elfsong/JITT\", f\"python3\")"
   ]
  }
 ],
 "metadata": {
  "kernelspec": {
   "display_name": "workspace",
   "language": "python",
   "name": "python3"
  },
  "language_info": {
   "codemirror_mode": {
    "name": "ipython",
    "version": 3
   },
   "file_extension": ".py",
   "mimetype": "text/x-python",
   "name": "python",
   "nbconvert_exporter": "python",
   "pygments_lexer": "ipython3",
   "version": "3.10.16"
  }
 },
 "nbformat": 4,
 "nbformat_minor": 2
}
