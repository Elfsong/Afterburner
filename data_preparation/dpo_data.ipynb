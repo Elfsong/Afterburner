{
 "cells": [
  {
   "cell_type": "code",
   "execution_count": 1,
   "metadata": {},
   "outputs": [],
   "source": [
    "import random\n",
    "from tqdm import tqdm\n",
    "from datasets import load_dataset, Dataset"
   ]
  },
  {
   "cell_type": "code",
   "execution_count": 2,
   "metadata": {},
   "outputs": [],
   "source": [
    "ds = load_dataset(\"Elfsong/Venus_t\", \"python3\", split=\"train\")"
   ]
  },
  {
   "cell_type": "code",
   "execution_count": 3,
   "metadata": {},
   "outputs": [],
   "source": [
    "prompt_template = \"\"\"\n",
    "Given the following problem details and the instruction, optimize the original solution.\n",
    "\n",
    "# Instruction:\n",
    "{instruction}\n",
    "\n",
    "# Problem Description:\n",
    "{content}\n",
    "\n",
    "# Original Solution:\n",
    "{solution_code}\n",
    "\"\"\""
   ]
  },
  {
   "cell_type": "code",
   "execution_count": null,
   "metadata": {},
   "outputs": [],
   "source": [
    "dpo_dataset = list()\n",
    "\n",
    "for instance in tqdm(list(ds)):\n",
    "    if len(instance[\"rt_list\"]) < 5:\n",
    "        continue\n",
    "\n",
    "    for _ in range(512):\n",
    "        # Randomly sample three solutions\n",
    "        (solution_1, solution_2, solution_3) = random.sample(instance[\"rt_list\"], 3)\n",
    "\n",
    "        # If the runtime difference is greater than 16 ms, generate a new training instance\n",
    "        if (int(solution_1['runtime']) - int(solution_2['runtime']) >= 16) and (int(solution_2['runtime']) - int(solution_3['runtime']) >= 16):\n",
    "            sft_instance = {\n",
    "                \"input\": prompt_template.format(instruction=\"Generate a solution with faster runtime.\", content=instance[\"content\"], solution_code=solution_2[\"code\"]),\n",
    "                \"chosen\": solution_3[\"code\"],\n",
    "                \"rejected\": solution_1[\"code\"]\n",
    "            }\n",
    "            dpo_dataset.append(sft_instance)\n",
    "\n",
    "new_ds = Dataset.from_list(dpo_dataset)\n",
    "new_ds.push_to_hub(\"Elfsong/Venus_DPO\", 'python3', split='runtime')"
   ]
  },
  {
   "cell_type": "code",
   "execution_count": null,
   "metadata": {},
   "outputs": [],
   "source": [
    "dpo_dataset = list()\n",
    "\n",
    "for instance in tqdm(list(ds)):\n",
    "    if len(instance[\"mm_list\"]) < 5:\n",
    "        continue\n",
    "\n",
    "    for _ in range(512):\n",
    "        # Randomly sample three solutions\n",
    "        (solution_1, solution_2, solution_3) = random.sample(instance[\"mm_list\"], 3)\n",
    "\n",
    "        # If the memory difference is greater than 128 kb, generate a new training instance\n",
    "        if (int(solution_1['memory']) - int(solution_2['memory']) >= 128) and (int(solution_2['memory']) - int(solution_3['memory']) >= 128):\n",
    "            sft_instance = {\n",
    "                \"input\": prompt_template.format(instruction=\"Generate a solution with less memory.\", content=instance[\"content\"], solution_code=solution_2[\"code\"]),\n",
    "                \"chosen\": solution_3[\"code\"],\n",
    "                \"rejected\": solution_1[\"code\"]\n",
    "            }\n",
    "            dpo_dataset.append(sft_instance)\n",
    "\n",
    "new_ds = Dataset.from_list(dpo_dataset)\n",
    "new_ds.push_to_hub(\"Elfsong/Venus_DPO\", 'python3', split='memory')"
   ]
  },
  {
   "cell_type": "code",
   "execution_count": null,
   "metadata": {},
   "outputs": [],
   "source": []
  }
 ],
 "metadata": {
  "kernelspec": {
   "display_name": "monolith",
   "language": "python",
   "name": "python3"
  },
  "language_info": {
   "codemirror_mode": {
    "name": "ipython",
    "version": 3
   },
   "file_extension": ".py",
   "mimetype": "text/x-python",
   "name": "python",
   "nbconvert_exporter": "python",
   "pygments_lexer": "ipython3",
   "version": "3.12.8"
  }
 },
 "nbformat": 4,
 "nbformat_minor": 2
}
