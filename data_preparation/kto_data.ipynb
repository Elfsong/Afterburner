{
 "cells": [
  {
   "cell_type": "code",
   "execution_count": 6,
   "metadata": {},
   "outputs": [],
   "source": [
    "import random\n",
    "from tqdm import tqdm\n",
    "from datasets import load_dataset, Dataset"
   ]
  },
  {
   "cell_type": "code",
   "execution_count": 7,
   "metadata": {},
   "outputs": [],
   "source": [
    "ds = load_dataset(\"Elfsong/Venus_t\", \"python3\", split=\"train\")"
   ]
  },
  {
   "cell_type": "code",
   "execution_count": 8,
   "metadata": {},
   "outputs": [],
   "source": [
    "prompt_template = \"\"\"\n",
    "Given the following problem details and the instruction, optimize the original solution.\n",
    "\n",
    "# Instruction:\n",
    "{instruction}\n",
    "\n",
    "# Problem Description:\n",
    "{content}\n",
    "\n",
    "# Original Solution:\n",
    "{solution_code}\n",
    "\"\"\""
   ]
  },
  {
   "cell_type": "code",
   "execution_count": 9,
   "metadata": {},
   "outputs": [
    {
     "name": "stderr",
     "output_type": "stream",
     "text": [
      "100%|██████████| 1527/1527 [00:01<00:00, 1356.90it/s]\n"
     ]
    },
    {
     "data": {
      "application/vnd.jupyter.widget-view+json": {
       "model_id": "df3660c834ca45e89143bc15eb5ba681",
       "version_major": 2,
       "version_minor": 0
      },
      "text/plain": [
       "Uploading the dataset shards:   0%|          | 0/2 [00:00<?, ?it/s]"
      ]
     },
     "metadata": {},
     "output_type": "display_data"
    },
    {
     "data": {
      "application/vnd.jupyter.widget-view+json": {
       "model_id": "de07b06a2b3d4c0c97468c407916e34f",
       "version_major": 2,
       "version_minor": 0
      },
      "text/plain": [
       "Creating parquet from Arrow format:   0%|          | 0/130 [00:00<?, ?ba/s]"
      ]
     },
     "metadata": {},
     "output_type": "display_data"
    },
    {
     "data": {
      "application/vnd.jupyter.widget-view+json": {
       "model_id": "637cb272645f4a04ac91fe86e30b6095",
       "version_major": 2,
       "version_minor": 0
      },
      "text/plain": [
       "Creating parquet from Arrow format:   0%|          | 0/130 [00:00<?, ?ba/s]"
      ]
     },
     "metadata": {},
     "output_type": "display_data"
    },
    {
     "data": {
      "text/plain": [
       "CommitInfo(commit_url='https://huggingface.co/datasets/Elfsong/Venus_KTO/commit/bedaacfc95067f4a694736a0a21436032e903df2', commit_message='Upload dataset', commit_description='', oid='bedaacfc95067f4a694736a0a21436032e903df2', pr_url=None, repo_url=RepoUrl('https://huggingface.co/datasets/Elfsong/Venus_KTO', endpoint='https://huggingface.co', repo_type='dataset', repo_id='Elfsong/Venus_KTO'), pr_revision=None, pr_num=None)"
      ]
     },
     "execution_count": 9,
     "metadata": {},
     "output_type": "execute_result"
    }
   ],
   "source": [
    "kto_dataset = list()\n",
    "\n",
    "for instance in tqdm(list(ds)):\n",
    "    if len(instance[\"rt_list\"]) < 2:\n",
    "        continue\n",
    "\n",
    "    for _ in range(256):\n",
    "        # Randomly sample two solutions\n",
    "        (solution_1, solution_2) = random.sample(instance[\"rt_list\"], 2)\n",
    "\n",
    "        # If the runtime difference is greater than 16 ms, generate a new training instance\n",
    "        if int(solution_1['runtime']) - int(solution_2['runtime']) >= 16:\n",
    "            # Positive instance\n",
    "            sft_instance = {\n",
    "                \"input\": prompt_template.format(instruction=\"Generate a solution with faster runtime.\", content=instance[\"content\"], solution_code=solution_1[\"code\"]),\n",
    "                \"output\": solution_2[\"code\"],\n",
    "                \"label\": True\n",
    "            }\n",
    "            kto_dataset.append(sft_instance)\n",
    "\n",
    "            # Negative instance\n",
    "            sft_instance = {\n",
    "                \"input\": prompt_template.format(instruction=\"Generate a solution with faster runtime.\", content=instance[\"content\"], solution_code=solution_2[\"code\"]),\n",
    "                \"output\": solution_1[\"code\"],\n",
    "                \"label\": False\n",
    "            }\n",
    "            kto_dataset.append(sft_instance)\n",
    "\n",
    "new_ds = Dataset.from_list(kto_dataset)\n",
    "new_ds.push_to_hub(\"Elfsong/Venus_KTO\", 'python3', split='runtime')"
   ]
  },
  {
   "cell_type": "code",
   "execution_count": 10,
   "metadata": {},
   "outputs": [
    {
     "name": "stderr",
     "output_type": "stream",
     "text": [
      "100%|██████████| 1527/1527 [00:01<00:00, 1242.24it/s]\n"
     ]
    },
    {
     "data": {
      "application/vnd.jupyter.widget-view+json": {
       "model_id": "67f0388a953e4dbb9fb33339e3868762",
       "version_major": 2,
       "version_minor": 0
      },
      "text/plain": [
       "Uploading the dataset shards:   0%|          | 0/3 [00:00<?, ?it/s]"
      ]
     },
     "metadata": {},
     "output_type": "display_data"
    },
    {
     "data": {
      "application/vnd.jupyter.widget-view+json": {
       "model_id": "fd06167666414ef98ac14c319294fe52",
       "version_major": 2,
       "version_minor": 0
      },
      "text/plain": [
       "Creating parquet from Arrow format:   0%|          | 0/124 [00:00<?, ?ba/s]"
      ]
     },
     "metadata": {},
     "output_type": "display_data"
    },
    {
     "data": {
      "application/vnd.jupyter.widget-view+json": {
       "model_id": "10038c34566c49629a886f976883efd7",
       "version_major": 2,
       "version_minor": 0
      },
      "text/plain": [
       "Creating parquet from Arrow format:   0%|          | 0/124 [00:00<?, ?ba/s]"
      ]
     },
     "metadata": {},
     "output_type": "display_data"
    },
    {
     "data": {
      "application/vnd.jupyter.widget-view+json": {
       "model_id": "4de24bf90f56403887c6607be0fcc2c9",
       "version_major": 2,
       "version_minor": 0
      },
      "text/plain": [
       "Creating parquet from Arrow format:   0%|          | 0/124 [00:00<?, ?ba/s]"
      ]
     },
     "metadata": {},
     "output_type": "display_data"
    },
    {
     "data": {
      "application/vnd.jupyter.widget-view+json": {
       "model_id": "8dcb096d1ed94c55bb3519cdeeb9cbcd",
       "version_major": 2,
       "version_minor": 0
      },
      "text/plain": [
       "README.md:   0%|          | 0.00/381 [00:00<?, ?B/s]"
      ]
     },
     "metadata": {},
     "output_type": "display_data"
    },
    {
     "data": {
      "text/plain": [
       "CommitInfo(commit_url='https://huggingface.co/datasets/Elfsong/Venus_KTO/commit/2cff8f0a0ea11180b0e6b0e3df20f8d4672d7898', commit_message='Upload dataset', commit_description='', oid='2cff8f0a0ea11180b0e6b0e3df20f8d4672d7898', pr_url=None, repo_url=RepoUrl('https://huggingface.co/datasets/Elfsong/Venus_KTO', endpoint='https://huggingface.co', repo_type='dataset', repo_id='Elfsong/Venus_KTO'), pr_revision=None, pr_num=None)"
      ]
     },
     "execution_count": 10,
     "metadata": {},
     "output_type": "execute_result"
    }
   ],
   "source": [
    "kto_dataset = list()\n",
    "\n",
    "for instance in tqdm(list(ds)):\n",
    "    if len(instance[\"mm_list\"]) < 2:\n",
    "        continue\n",
    "\n",
    "    for _ in range(256):\n",
    "        # Randomly sample two solutions\n",
    "        (solution_1, solution_2) = random.sample(instance[\"mm_list\"], 2)\n",
    "\n",
    "        # If the memory difference is greater than 128 kb, generate a new training instance\n",
    "        if int(solution_1['memory']) - int(solution_2['memory']) >= 16:\n",
    "            # Positive instance\n",
    "            sft_instance = {\n",
    "                \"input\": prompt_template.format(instruction=\"Generate a solution with faster runtime.\", content=instance[\"content\"], solution_code=solution_1[\"code\"]),\n",
    "                \"output\": solution_2[\"code\"],\n",
    "                \"label\": True\n",
    "            }\n",
    "            kto_dataset.append(sft_instance)\n",
    "\n",
    "            # Negative instance\n",
    "            sft_instance = {\n",
    "                \"input\": prompt_template.format(instruction=\"Generate a solution with faster runtime.\", content=instance[\"content\"], solution_code=solution_2[\"code\"]),\n",
    "                \"output\": solution_1[\"code\"],\n",
    "                \"label\": False\n",
    "            }\n",
    "            kto_dataset.append(sft_instance)\n",
    "\n",
    "new_ds = Dataset.from_list(kto_dataset)\n",
    "new_ds.push_to_hub(\"Elfsong/Venus_KTO\", 'python3', split='memory')"
   ]
  },
  {
   "cell_type": "code",
   "execution_count": null,
   "metadata": {},
   "outputs": [],
   "source": []
  }
 ],
 "metadata": {
  "kernelspec": {
   "display_name": "monolith",
   "language": "python",
   "name": "python3"
  },
  "language_info": {
   "codemirror_mode": {
    "name": "ipython",
    "version": 3
   },
   "file_extension": ".py",
   "mimetype": "text/x-python",
   "name": "python",
   "nbconvert_exporter": "python",
   "pygments_lexer": "ipython3",
   "version": "3.12.8"
  }
 },
 "nbformat": 4,
 "nbformat_minor": 2
}
