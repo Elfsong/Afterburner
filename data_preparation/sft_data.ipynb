{
 "cells": [
  {
   "cell_type": "code",
   "execution_count": 1,
   "metadata": {},
   "outputs": [],
   "source": [
    "import random\n",
    "from tqdm import tqdm\n",
    "from datasets import load_dataset, Dataset"
   ]
  },
  {
   "cell_type": "code",
   "execution_count": 2,
   "metadata": {},
   "outputs": [],
   "source": [
    "ds = load_dataset(\"Elfsong/Venus_t\", \"python3\", split=\"train\")"
   ]
  },
  {
   "cell_type": "code",
   "execution_count": 3,
   "metadata": {},
   "outputs": [],
   "source": [
    "prompt_template = \"\"\"\n",
    "Given the following problem details and the instruction, optimize the original solution.\n",
    "\n",
    "# Instruction:\n",
    "{instruction}\n",
    "\n",
    "# Problem Description:\n",
    "{content}\n",
    "\n",
    "# Original Solution:\n",
    "{solution_code}\n",
    "\"\"\""
   ]
  },
  {
   "cell_type": "code",
   "execution_count": 4,
   "metadata": {},
   "outputs": [
    {
     "name": "stderr",
     "output_type": "stream",
     "text": [
      "100%|██████████| 1527/1527 [00:01<00:00, 1006.90it/s]\n"
     ]
    },
    {
     "data": {
      "application/vnd.jupyter.widget-view+json": {
       "model_id": "6104caba820f4ff794f99553b78577ba",
       "version_major": 2,
       "version_minor": 0
      },
      "text/plain": [
       "Uploading the dataset shards:   0%|          | 0/2 [00:00<?, ?it/s]"
      ]
     },
     "metadata": {},
     "output_type": "display_data"
    },
    {
     "data": {
      "application/vnd.jupyter.widget-view+json": {
       "model_id": "66eae066277042ffbe2f248c0cecd285",
       "version_major": 2,
       "version_minor": 0
      },
      "text/plain": [
       "Creating parquet from Arrow format:   0%|          | 0/65 [00:00<?, ?ba/s]"
      ]
     },
     "metadata": {},
     "output_type": "display_data"
    },
    {
     "data": {
      "application/vnd.jupyter.widget-view+json": {
       "model_id": "b7b14d5120c349de90f5d4c8db210699",
       "version_major": 2,
       "version_minor": 0
      },
      "text/plain": [
       "Creating parquet from Arrow format:   0%|          | 0/65 [00:00<?, ?ba/s]"
      ]
     },
     "metadata": {},
     "output_type": "display_data"
    },
    {
     "data": {
      "text/plain": [
       "CommitInfo(commit_url='https://huggingface.co/datasets/Elfsong/Venus_SFT/commit/7308a8d27f25b4bb532650effd45208333f89259', commit_message='Upload dataset', commit_description='', oid='7308a8d27f25b4bb532650effd45208333f89259', pr_url=None, repo_url=RepoUrl('https://huggingface.co/datasets/Elfsong/Venus_SFT', endpoint='https://huggingface.co', repo_type='dataset', repo_id='Elfsong/Venus_SFT'), pr_revision=None, pr_num=None)"
      ]
     },
     "execution_count": 4,
     "metadata": {},
     "output_type": "execute_result"
    }
   ],
   "source": [
    "sft_dataset = list()\n",
    "\n",
    "for instance in tqdm(list(ds)):\n",
    "    if len(instance[\"rt_list\"]) < 2:\n",
    "        continue\n",
    "\n",
    "    for _ in range(256):\n",
    "        # Randomly sample two solutions\n",
    "        (solution_1, solution_2) = random.sample(instance[\"rt_list\"], 2)\n",
    "\n",
    "        # If the runtime difference is greater than 16 ms, generate a new training instance\n",
    "        if int(solution_1['runtime']) - int(solution_2['runtime']) >= 16:\n",
    "            sft_instance = {\n",
    "                \"input\": prompt_template.format(instruction=\"Generate a solution with faster runtime.\", content=instance[\"content\"], solution_code=solution_1[\"code\"]),\n",
    "                \"output\": solution_2[\"code\"],\n",
    "                \"diff\": int(solution_1['runtime']) - int(solution_2['runtime'])\n",
    "            }\n",
    "            sft_dataset.append(sft_instance)\n",
    "\n",
    "new_ds = Dataset.from_list(sft_dataset)\n",
    "new_ds.push_to_hub(\"Elfsong/Venus_SFT\", 'python3', split='runtime')"
   ]
  },
  {
   "cell_type": "code",
   "execution_count": 5,
   "metadata": {},
   "outputs": [
    {
     "name": "stderr",
     "output_type": "stream",
     "text": [
      "100%|██████████| 1527/1527 [00:01<00:00, 1508.72it/s]\n"
     ]
    },
    {
     "data": {
      "application/vnd.jupyter.widget-view+json": {
       "model_id": "f735e644b8f54aa8840fed597535acab",
       "version_major": 2,
       "version_minor": 0
      },
      "text/plain": [
       "Uploading the dataset shards:   0%|          | 0/2 [00:00<?, ?it/s]"
      ]
     },
     "metadata": {},
     "output_type": "display_data"
    },
    {
     "data": {
      "application/vnd.jupyter.widget-view+json": {
       "model_id": "1eb9b045ec8147ca82ee516067c034e8",
       "version_major": 2,
       "version_minor": 0
      },
      "text/plain": [
       "Creating parquet from Arrow format:   0%|          | 0/73 [00:00<?, ?ba/s]"
      ]
     },
     "metadata": {},
     "output_type": "display_data"
    },
    {
     "data": {
      "application/vnd.jupyter.widget-view+json": {
       "model_id": "302e8ef1ff0f498fa79d7d521ddb89b1",
       "version_major": 2,
       "version_minor": 0
      },
      "text/plain": [
       "Creating parquet from Arrow format:   0%|          | 0/73 [00:00<?, ?ba/s]"
      ]
     },
     "metadata": {},
     "output_type": "display_data"
    },
    {
     "data": {
      "application/vnd.jupyter.widget-view+json": {
       "model_id": "656b23ff5d1f43bfa49b7c0cdc84a329",
       "version_major": 2,
       "version_minor": 0
      },
      "text/plain": [
       "README.md:   0%|          | 0.00/381 [00:00<?, ?B/s]"
      ]
     },
     "metadata": {},
     "output_type": "display_data"
    },
    {
     "data": {
      "text/plain": [
       "CommitInfo(commit_url='https://huggingface.co/datasets/Elfsong/Venus_SFT/commit/89894d4be6ef4e11adc7cfd3712edc14a7b19030', commit_message='Upload dataset', commit_description='', oid='89894d4be6ef4e11adc7cfd3712edc14a7b19030', pr_url=None, repo_url=RepoUrl('https://huggingface.co/datasets/Elfsong/Venus_SFT', endpoint='https://huggingface.co', repo_type='dataset', repo_id='Elfsong/Venus_SFT'), pr_revision=None, pr_num=None)"
      ]
     },
     "execution_count": 5,
     "metadata": {},
     "output_type": "execute_result"
    }
   ],
   "source": [
    "sft_dataset = list()\n",
    "\n",
    "for instance in tqdm(list(ds)):\n",
    "    if len(instance[\"mm_list\"]) < 2:\n",
    "        continue\n",
    "\n",
    "    for _ in range(256):\n",
    "        # Randomly sample two solutions\n",
    "        (solution_1, solution_2) = random.sample(instance[\"mm_list\"], 2)\n",
    "\n",
    "        # If the memory difference is greater than 128 kb, generate a new training instance\n",
    "        if int(solution_1['memory']) - int(solution_2['memory']) >= 128:\n",
    "            sft_instance = {\n",
    "                \"input\": prompt_template.format(instruction=\"Generate a solution with less peak memory.\", content=instance[\"content\"], solution_code=solution_1[\"code\"]),\n",
    "                \"output\": solution_2[\"code\"],\n",
    "                \"diff\": int(solution_1['memory']) - int(solution_2['memory'])\n",
    "            }\n",
    "            sft_dataset.append(sft_instance)\n",
    "\n",
    "new_ds = Dataset.from_list(sft_dataset)\n",
    "new_ds.push_to_hub(\"Elfsong/Venus_SFT\", 'python3', split='memory')"
   ]
  },
  {
   "cell_type": "code",
   "execution_count": null,
   "metadata": {},
   "outputs": [],
   "source": []
  }
 ],
 "metadata": {
  "kernelspec": {
   "display_name": "monolith",
   "language": "python",
   "name": "python3"
  },
  "language_info": {
   "codemirror_mode": {
    "name": "ipython",
    "version": 3
   },
   "file_extension": ".py",
   "mimetype": "text/x-python",
   "name": "python",
   "nbconvert_exporter": "python",
   "pygments_lexer": "ipython3",
   "version": "3.12.8"
  }
 },
 "nbformat": 4,
 "nbformat_minor": 2
}
