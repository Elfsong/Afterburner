{
 "cells": [
  {
   "cell_type": "code",
   "execution_count": 12,
   "metadata": {},
   "outputs": [],
   "source": [
    "import json\n",
    "import datasets\n",
    "from datasets import load_dataset, Dataset"
   ]
  },
  {
   "cell_type": "code",
   "execution_count": null,
   "metadata": {},
   "outputs": [],
   "source": [
    "apps_dataset = load_dataset(\"Elfsong/APPS_Verfied\", split=\"train\")\n",
    "print(\"original dataset size:\", len(apps_dataset))\n",
    "data_list = list()\n",
    "for instance in apps_dataset:\n",
    "    solutions = json.loads(instance['solutions'])\n",
    "    if len([instance for s in solutions if s['passed']]) < 1: continue\n",
    "    data_list.append(instance)\n",
    "print(\"filtered dataset size:\", len(data_list))\n",
    "ds = Dataset.from_list(data_list)\n",
    "dd = ds.train_test_split(test_size=0.3, seed=42)\n",
    "dd.push_to_hub(\"Elfsong/APPS_Python\", private=True)"
   ]
  },
  {
   "cell_type": "code",
   "execution_count": 8,
   "metadata": {},
   "outputs": [],
   "source": [
    "import json\n",
    "from datasets import load_dataset\n",
    "\n",
    "# Login using e.g. `huggingface-cli login` to access this dataset\n",
    "ds = load_dataset(\"Elfsong/APPS_Python\")"
   ]
  },
  {
   "cell_type": "code",
   "execution_count": 10,
   "metadata": {},
   "outputs": [
    {
     "name": "stdout",
     "output_type": "stream",
     "text": [
      "solution: 33.27705112960761, test_case: 24.287752675386443\n"
     ]
    }
   ],
   "source": [
    "# Statistic of solution counts and test case counts\n",
    "solution_c, test_case_c = 0, 0\n",
    "problem_c = len(ds['test'])\n",
    "\n",
    "for instance in ds['test']:\n",
    "    solution_c += len(json.loads(instance['solutions']))\n",
    "    test_case_c += len(json.loads(instance['test_cases']))\n",
    "    \n",
    "print(f\"solution: {solution_c/problem_c}, test_case: {test_case_c/problem_c}\")"
   ]
  },
  {
   "cell_type": "code",
   "execution_count": 13,
   "metadata": {},
   "outputs": [],
   "source": [
    "ds_new = datasets.concatenate_datasets([ds['train'], ds['test']])"
   ]
  },
  {
   "cell_type": "code",
   "execution_count": 20,
   "metadata": {},
   "outputs": [],
   "source": [
    "dd = ds_new.train_test_split(test_size=300, seed=42)"
   ]
  },
  {
   "cell_type": "code",
   "execution_count": 21,
   "metadata": {},
   "outputs": [
    {
     "data": {
      "application/vnd.jupyter.widget-view+json": {
       "model_id": "342691d7b2f44101b766fa887d773d41",
       "version_major": 2,
       "version_minor": 0
      },
      "text/plain": [
       "Uploading the dataset shards:   0%|          | 0/1 [00:00<?, ?it/s]"
      ]
     },
     "metadata": {},
     "output_type": "display_data"
    },
    {
     "data": {
      "application/vnd.jupyter.widget-view+json": {
       "model_id": "c6102ed86b184f499c86ccb0a44d6483",
       "version_major": 2,
       "version_minor": 0
      },
      "text/plain": [
       "Creating parquet from Arrow format:   0%|          | 0/3 [00:00<?, ?ba/s]"
      ]
     },
     "metadata": {},
     "output_type": "display_data"
    },
    {
     "data": {
      "application/vnd.jupyter.widget-view+json": {
       "model_id": "3eeb0d69d07c4af6b4cc2c6520f8c675",
       "version_major": 2,
       "version_minor": 0
      },
      "text/plain": [
       "Uploading the dataset shards:   0%|          | 0/1 [00:00<?, ?it/s]"
      ]
     },
     "metadata": {},
     "output_type": "display_data"
    },
    {
     "data": {
      "application/vnd.jupyter.widget-view+json": {
       "model_id": "ac31f8157eb64fa993db2ea5b78e255f",
       "version_major": 2,
       "version_minor": 0
      },
      "text/plain": [
       "Creating parquet from Arrow format:   0%|          | 0/1 [00:00<?, ?ba/s]"
      ]
     },
     "metadata": {},
     "output_type": "display_data"
    },
    {
     "data": {
      "text/plain": [
       "CommitInfo(commit_url='https://huggingface.co/datasets/Elfsong/APPS_Python/commit/f130ea3e4a2b7e3228d07cfd2237b72f63abd721', commit_message='Upload dataset', commit_description='', oid='f130ea3e4a2b7e3228d07cfd2237b72f63abd721', pr_url=None, repo_url=RepoUrl('https://huggingface.co/datasets/Elfsong/APPS_Python', endpoint='https://huggingface.co', repo_type='dataset', repo_id='Elfsong/APPS_Python'), pr_revision=None, pr_num=None)"
      ]
     },
     "execution_count": 21,
     "metadata": {},
     "output_type": "execute_result"
    }
   ],
   "source": [
    "dd.push_to_hub(\"Elfsong/APPS_Python\", private=True)"
   ]
  },
  {
   "cell_type": "code",
   "execution_count": null,
   "metadata": {},
   "outputs": [],
   "source": []
  }
 ],
 "metadata": {
  "kernelspec": {
   "display_name": "verl_env",
   "language": "python",
   "name": "python3"
  },
  "language_info": {
   "codemirror_mode": {
    "name": "ipython",
    "version": 3
   },
   "file_extension": ".py",
   "mimetype": "text/x-python",
   "name": "python",
   "nbconvert_exporter": "python",
   "pygments_lexer": "ipython3",
   "version": "3.10.0"
  }
 },
 "nbformat": 4,
 "nbformat_minor": 2
}
