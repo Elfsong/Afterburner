{
 "cells": [
  {
   "cell_type": "code",
   "execution_count": 8,
   "metadata": {},
   "outputs": [],
   "source": [
    "import sys\n",
    "sys.set_int_max_str_digits(0)\n",
    "\n",
    "import json\n",
    "from tqdm import tqdm\n",
    "from datasets import load_dataset, Dataset"
   ]
  },
  {
   "cell_type": "code",
   "execution_count": 11,
   "metadata": {},
   "outputs": [],
   "source": [
    "split = 'test'\n",
    "ds = load_dataset(\"codeparrot/apps\", \"all\", split=split)"
   ]
  },
  {
   "cell_type": "code",
   "execution_count": null,
   "metadata": {},
   "outputs": [],
   "source": [
    "instance_list = list()\n",
    "for instance in tqdm(ds):\n",
    "    try:\n",
    "        problem_id = instance[\"problem_id\"]\n",
    "        question = instance[\"question\"]\n",
    "        solutions = instance[\"solutions\"]\n",
    "        input_output = instance[\"input_output\"]\n",
    "        difficulty = instance[\"difficulty\"]\n",
    "        starter_code = instance[\"starter_code\"]\n",
    "\n",
    "        if not input_output: continue\n",
    "        if not solutions: continue\n",
    "        input_output = json.loads(input_output)\n",
    "        solutions = json.loads(instance[\"solutions\"])\n",
    "\n",
    "        test_cases = list()\n",
    "        for input_, output_ in zip(input_output[\"inputs\"], input_output[\"outputs\"]):\n",
    "            test_cases.append({\n",
    "                'input': input_,\n",
    "                'output': output_\n",
    "            })\n",
    "\n",
    "        instance = {\n",
    "            'problem_id': int(problem_id),\n",
    "            'question': str(question),\n",
    "            'solutions': json.dumps(solutions),\n",
    "            'test_cases': json.dumps(test_cases),\n",
    "            'difficulty': str(difficulty),\n",
    "            'starter_code': str(starter_code)\n",
    "        }\n",
    "        instance_list.append(instance)\n",
    "    except Exception as e:\n",
    "        print(e)\n",
    "\n",
    "ds = Dataset.from_list(instance_list)\n",
    "ds.push_to_hub(\"Elfsong/APPS\", split=split)"
   ]
  },
  {
   "cell_type": "code",
   "execution_count": null,
   "metadata": {},
   "outputs": [],
   "source": []
  },
  {
   "cell_type": "code",
   "execution_count": 2,
   "metadata": {},
   "outputs": [],
   "source": [
    "import requests"
   ]
  },
  {
   "cell_type": "code",
   "execution_count": 15,
   "metadata": {},
   "outputs": [],
   "source": [
    "def post_code_submit(libs, code: str, timeout: int, profiling: bool) -> str:\n",
    "    data = {\n",
    "        'language': \"python\",\n",
    "        'code': code,\n",
    "        'libraries': libs,\n",
    "        'timeout': timeout,\n",
    "        'run_memory_profile': profiling\n",
    "    }\n",
    "\n",
    "    response = requests.post('https://monolith.cool/execute', json=data)\n",
    "    task_id = response.json()['task_id']\n",
    "    return task_id\n",
    "\n",
    "def get_code_result(task_id: str) -> str:\n",
    "    response = requests.get(f'https://monolith.cool/results/{task_id}')\n",
    "    return response.json()"
   ]
  },
  {
   "cell_type": "code",
   "execution_count": 32,
   "metadata": {},
   "outputs": [],
   "source": [
    "with open('apps_template.py', 'r') as f:\n",
    "    code = f.read()"
   ]
  },
  {
   "cell_type": "code",
   "execution_count": 33,
   "metadata": {},
   "outputs": [],
   "source": [
    "task_id = post_code_submit([], code, 60, False)"
   ]
  },
  {
   "cell_type": "code",
   "execution_count": 37,
   "metadata": {},
   "outputs": [],
   "source": [
    "response = get_code_result(task_id)"
   ]
  },
  {
   "cell_type": "code",
   "execution_count": null,
   "metadata": {},
   "outputs": [],
   "source": [
    "print(response['output_dict']['stderr'].split('======================================================================')[0])"
   ]
  },
  {
   "cell_type": "code",
   "execution_count": 20,
   "metadata": {},
   "outputs": [],
   "source": [
    "ds = load_dataset(\"Elfsong/APPS\", split=\"test\")"
   ]
  },
  {
   "cell_type": "code",
   "execution_count": 20,
   "metadata": {},
   "outputs": [],
   "source": [
    "import json\n",
    "import textwrap"
   ]
  },
  {
   "cell_type": "code",
   "execution_count": null,
   "metadata": {},
   "outputs": [],
   "source": [
    "solution = \"\"\"\n",
    "a = int(input())\n",
    "b = int(input())\n",
    "print(a + b)\n",
    "\"\"\".strip()\n",
    "solution = textwrap.indent(solution, \"    \")\n",
    "print(solution)"
   ]
  },
  {
   "cell_type": "code",
   "execution_count": 24,
   "metadata": {},
   "outputs": [],
   "source": [
    "with open('apps_template', 'r') as f:\n",
    "    TEMPLATE = f.read()"
   ]
  },
  {
   "cell_type": "code",
   "execution_count": 25,
   "metadata": {},
   "outputs": [],
   "source": [
    "test_cases = [\n",
    "    {\"input\": \"1 2 3\\n\", \"output\": \"6\\n\"},\n",
    "    {\"input\": \"10 20 30\\n\", \"output\": \"60\\n\"}\n",
    "]\n",
    "\n",
    "test_case_list_str = json.dumps(test_cases, indent=4)"
   ]
  },
  {
   "cell_type": "code",
   "execution_count": 26,
   "metadata": {},
   "outputs": [],
   "source": [
    "final_code = TEMPLATE.format(\n",
    "    code_solution=solution,\n",
    "    test_case_list=test_case_list_str\n",
    ")"
   ]
  },
  {
   "cell_type": "code",
   "execution_count": null,
   "metadata": {},
   "outputs": [],
   "source": [
    "print(final_code)"
   ]
  },
  {
   "cell_type": "code",
   "execution_count": null,
   "metadata": {},
   "outputs": [],
   "source": [
    "from datasets import load_dataset\n",
    "\n",
    "# Login using e.g. `huggingface-cli login` to access this dataset\n",
    "ds = load_dataset(\"Elfsong/APPS_Model_Evaluation\", \"qwen_2_5_7b_instruct\")"
   ]
  },
  {
   "cell_type": "code",
   "execution_count": null,
   "metadata": {},
   "outputs": [],
   "source": [
    "ds"
   ]
  },
  {
   "cell_type": "code",
   "execution_count": null,
   "metadata": {},
   "outputs": [],
   "source": [
    "from huggingface_hub import InferenceClient\n",
    "\n",
    "client = InferenceClient(\n",
    "    provider=\"together\",\n",
    "    api_key=\"HF_TOKEN\",\n",
    ")\n",
    "\n",
    "completion = client.chat.completions.create(\n",
    "    model=\"meta-llama/Llama-4-Scout-17B-16E-Instruct\",\n",
    "    messages=[\n",
    "        {\n",
    "            \"role\": \"user\",\n",
    "            \"content\": [\n",
    "                {\n",
    "                    \"type\": \"text\",\n",
    "                    \"text\": \"Describe this image in one sentence.\"\n",
    "                },\n",
    "                {\n",
    "                    \"type\": \"image_url\",\n",
    "                    \"image_url\": {\n",
    "                        \"url\": \"https://cdn.britannica.com/61/93061-050-99147DCE/Statue-of-Liberty-Island-New-York-Bay.jpg\"\n",
    "                    }\n",
    "                }\n",
    "            ]\n",
    "        }\n",
    "    ],\n",
    "    max_tokens=512,\n",
    ")\n",
    "\n",
    "print(completion.choices[0].message)"
   ]
  },
  {
   "cell_type": "code",
   "execution_count": null,
   "metadata": {},
   "outputs": [],
   "source": []
  }
 ],
 "metadata": {
  "kernelspec": {
   "display_name": "verl_env",
   "language": "python",
   "name": "python3"
  },
  "language_info": {
   "codemirror_mode": {
    "name": "ipython",
    "version": 3
   },
   "file_extension": ".py",
   "mimetype": "text/x-python",
   "name": "python",
   "nbconvert_exporter": "python",
   "pygments_lexer": "ipython3",
   "version": "3.10.0"
  }
 },
 "nbformat": 4,
 "nbformat_minor": 2
}
