{
 "cells": [
  {
   "cell_type": "code",
   "execution_count": 3,
   "metadata": {},
   "outputs": [],
   "source": [
    "from datasets import load_dataset"
   ]
  },
  {
   "cell_type": "code",
   "execution_count": 66,
   "metadata": {},
   "outputs": [],
   "source": [
    "model_name = \"o4_mini\""
   ]
  },
  {
   "cell_type": "code",
   "execution_count": 67,
   "metadata": {},
   "outputs": [
    {
     "data": {
      "application/vnd.jupyter.widget-view+json": {
       "model_id": "fd4a0392c4474ce0a248502b8a8cf4c0",
       "version_major": 2,
       "version_minor": 0
      },
      "text/plain": [
       "Generating train split:   0%|          | 0/4800 [00:00<?, ? examples/s]"
      ]
     },
     "metadata": {},
     "output_type": "display_data"
    }
   ],
   "source": [
    "# Load Dataset\n",
    "venus_ds = load_dataset(\"Elfsong/Venus_Python_Model_Evaluation\", model_name, split='train')\n",
    "apps_ds = load_dataset(\"Elfsong/Venus_Python_Model_Evaluation\", model_name, split='train')"
   ]
  },
  {
   "cell_type": "code",
   "execution_count": 68,
   "metadata": {},
   "outputs": [
    {
     "name": "stdout",
     "output_type": "stream",
     "text": [
      "Length of Venus dataset: 4800\n",
      "Length of Apps dataset: 4800\n"
     ]
    }
   ],
   "source": [
    "print(f\"Length of Venus dataset: {len(venus_ds)}\")\n",
    "print(f\"Length of Apps dataset: {len(apps_ds)}\")"
   ]
  },
  {
   "cell_type": "code",
   "execution_count": 69,
   "metadata": {},
   "outputs": [
    {
     "name": "stdout",
     "output_type": "stream",
     "text": [
      "Time\n",
      "6.92\t82.04\t0.15\t10.90\n",
      "Memory\n",
      "3.17\t85.40\t0.54\t10.90\n",
      "Integral\n",
      "3.88\t84.40\t0.83\t10.90\n"
     ]
    }
   ],
   "source": [
    "total_c = 0\n",
    "passed_c = 0\n",
    "time_beyond_c, time_equal_c, time_below_c = 0, 0, 0\n",
    "memory_beyond_c, memory_equal_c, memory_below_c = 0, 0, 0\n",
    "integral_beyond_c, integral_equal_c, integral_below_c = 0, 0, 0\n",
    "\n",
    "for instance in venus_ds:\n",
    "    total_c += 1\n",
    "    if instance['passed'] == True:\n",
    "        passed_c += 1\n",
    "        if instance['precentile_time'] == 1:\n",
    "            time_beyond_c += 1\n",
    "        elif instance['precentile_time'] == 0:\n",
    "            time_below_c += 1\n",
    "        else:\n",
    "            time_equal_c += 1\n",
    "        if instance['precentile_memory'] == 1:\n",
    "            memory_beyond_c += 1\n",
    "        elif instance['precentile_memory'] == 0:\n",
    "            memory_below_c += 1\n",
    "        else:\n",
    "            memory_equal_c += 1\n",
    "        if instance['precentile_integral'] == 1:\n",
    "            integral_beyond_c += 1\n",
    "        elif instance['precentile_integral'] == 0:\n",
    "            integral_below_c += 1\n",
    "        else:\n",
    "            integral_equal_c += 1\n",
    "\n",
    "passed_rate = passed_c / total_c * 100\n",
    "failed_rate = (total_c - passed_c) / total_c * 100\n",
    "time_beyond_rate = time_beyond_c / total_c * 100\n",
    "memory_beyond_rate = memory_beyond_c / total_c * 100\n",
    "integral_beyond_rate = integral_beyond_c / total_c * 100\n",
    "time_equal_rate = time_equal_c / total_c * 100\n",
    "memory_equal_rate = memory_equal_c / total_c * 100\n",
    "integral_equal_rate = integral_equal_c / total_c * 100\n",
    "time_below_rate = time_below_c / total_c * 100\n",
    "memory_below_rate = memory_below_c / total_c * 100\n",
    "integral_below_rate = integral_below_c / total_c * 100\n",
    "\n",
    "\n",
    "print(\"Time\")\n",
    "print(f\"{time_beyond_rate:.2f}\\t{time_equal_rate:.2f}\\t{time_below_rate:.2f}\\t{failed_rate:.2f}\")\n",
    "print(\"Memory\")\n",
    "print(f\"{memory_beyond_rate:.2f}\\t{memory_equal_rate:.2f}\\t{memory_below_rate:.2f}\\t{failed_rate:.2f}\")\n",
    "print(\"Integral\")\n",
    "print(f\"{integral_beyond_rate:.2f}\\t{integral_equal_rate:.2f}\\t{integral_below_rate:.2f}\\t{failed_rate:.2f}\")"
   ]
  },
  {
   "cell_type": "code",
   "execution_count": null,
   "metadata": {},
   "outputs": [],
   "source": []
  },
  {
   "cell_type": "code",
   "execution_count": null,
   "metadata": {},
   "outputs": [],
   "source": []
  }
 ],
 "metadata": {
  "kernelspec": {
   "display_name": "verl_env",
   "language": "python",
   "name": "python3"
  },
  "language_info": {
   "codemirror_mode": {
    "name": "ipython",
    "version": 3
   },
   "file_extension": ".py",
   "mimetype": "text/x-python",
   "name": "python",
   "nbconvert_exporter": "python",
   "pygments_lexer": "ipython3",
   "version": "3.10.0"
  }
 },
 "nbformat": 4,
 "nbformat_minor": 2
}
