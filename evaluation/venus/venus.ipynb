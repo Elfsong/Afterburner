{
 "cells": [
  {
   "cell_type": "code",
   "execution_count": 73,
   "metadata": {},
   "outputs": [],
   "source": [
    "import json\n",
    "import random\n",
    "import pathlib\n",
    "from datasets import load_dataset"
   ]
  },
  {
   "cell_type": "code",
   "execution_count": 74,
   "metadata": {},
   "outputs": [
    {
     "name": "stdout",
     "output_type": "stream",
     "text": [
      "batch_results/batch_6800f3c34b90819085ff1d097f977cea_output.jsonl\n"
     ]
    }
   ],
   "source": [
    "test_templates = list()\n",
    "for file_name in pathlib.Path(\"./batch_results/\").glob(\"*.jsonl\"):\n",
    "    print(file_name)\n",
    "    with open(file_name, \"r\") as f:\n",
    "        for line in f.readlines():\n",
    "            instance = json.loads(line)\n",
    "            custom_id = instance['custom_id']\n",
    "            problem_id = custom_id.split('-')[1]\n",
    "            template = instance['response']['body']['choices'][0]['message']['content']\n",
    "            if template not in test_templates:\n",
    "                test_templates.append(template)\n",
    "                with open(f\"cpp_templates/test_template_{problem_id}.cpp\", \"w\") as f:\n",
    "                    f.write(template)"
   ]
  },
  {
   "cell_type": "code",
   "execution_count": 69,
   "metadata": {},
   "outputs": [],
   "source": [
    "venus_ds = load_dataset(\"Elfsong/Venus\", \"cpp\", split='train')\n",
    "venus_dict = {}\n",
    "for instance in venus_ds:\n",
    "    venus_dict[int(instance['question_id'])] = instance"
   ]
  },
  {
   "cell_type": "code",
   "execution_count": 70,
   "metadata": {},
   "outputs": [
    {
     "data": {
      "application/vnd.jupyter.widget-view+json": {
       "model_id": "ad192886dde34c92a5a10494b8540874",
       "version_major": 2,
       "version_minor": 0
      },
      "text/plain": [
       "Resolving data files:   0%|          | 0/100 [00:00<?, ?it/s]"
      ]
     },
     "metadata": {},
     "output_type": "display_data"
    },
    {
     "data": {
      "application/vnd.jupyter.widget-view+json": {
       "model_id": "48c9e95887d74f0caa6343e94de5d3c4",
       "version_major": 2,
       "version_minor": 0
      },
      "text/plain": [
       "Resolving data files:   0%|          | 0/100 [00:00<?, ?it/s]"
      ]
     },
     "metadata": {},
     "output_type": "display_data"
    }
   ],
   "source": [
    "leetcode_ds = load_dataset(\"Elfsong/leetcode_data\", split='train')\n",
    "leetcode_dict = {}\n",
    "for instance in leetcode_ds:\n",
    "    leetcode_dict[int(instance['problem_id'])] = instance"
   ]
  },
  {
   "cell_type": "code",
   "execution_count": 71,
   "metadata": {},
   "outputs": [],
   "source": [
    "for template_name in pathlib.Path(\"./cpp_templates/\").glob(\"*.cpp\"):\n",
    "    if \"template\" not in template_name.stem: continue\n",
    "    problem_id = int(template_name.stem.split(\"_\")[2])\n",
    "\n",
    "    if problem_id not in leetcode_dict: continue\n",
    "    if problem_id not in venus_dict: continue\n",
    "\n",
    "    leetcode_instance = leetcode_dict[problem_id]\n",
    "    venus_instance = venus_dict[problem_id]\n",
    "\n",
    "    solutions = venus_instance['rt_list'] + venus_instance['mm_list']\n",
    "    if len(solutions) == 0: continue\n",
    "    solution_code = random.choice(solutions)['code']\n",
    "\n",
    "    test_cases = json.loads(leetcode_instance['test_cases'])\n",
    "    test_case_str = json.dumps(test_cases, separators=(',', ':'))\n",
    "    test_case_str_literal = f'R\"({test_case_str})\"'\n",
    "\n",
    "    template_code = open(template_name, \"r\").read()\n",
    "    template_code = template_code.replace(\"==Solution Code==\", solution_code)\n",
    "    template_code = template_code.replace(\"==Test Cases==\", test_case_str_literal)\n",
    "\n",
    "    with open(f\"cpp_templates/test_{problem_id}.cpp\", \"w\") as f:\n",
    "        f.write(template_code)"
   ]
  },
  {
   "cell_type": "code",
   "execution_count": null,
   "metadata": {},
   "outputs": [],
   "source": []
  }
 ],
 "metadata": {
  "kernelspec": {
   "display_name": "verl_env",
   "language": "python",
   "name": "python3"
  },
  "language_info": {
   "codemirror_mode": {
    "name": "ipython",
    "version": 3
   },
   "file_extension": ".py",
   "mimetype": "text/x-python",
   "name": "python",
   "nbconvert_exporter": "python",
   "pygments_lexer": "ipython3",
   "version": "3.10.0"
  }
 },
 "nbformat": 4,
 "nbformat_minor": 2
}
