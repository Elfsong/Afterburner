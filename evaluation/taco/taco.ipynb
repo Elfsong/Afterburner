{
 "cells": [
  {
   "cell_type": "code",
   "execution_count": 1,
   "metadata": {},
   "outputs": [],
   "source": [
    "import json \n",
    "import textwrap\n",
    "import requests\n",
    "from tqdm import tqdm\n",
    "from datasets import load_dataset, Dataset"
   ]
  },
  {
   "cell_type": "code",
   "execution_count": 2,
   "metadata": {},
   "outputs": [],
   "source": [
    "GENERATION_TEMPLATE = \"\"\"\n",
    "## Instructions\n",
    "You are an expert competitive programmer who excels at solving algorithm problems in multiple programming languages.\n",
    "Your task is to implement a solution to the following problem in {target_lang}.\n",
    "\n",
    "## Problem Description\n",
    "{question}\n",
    "\n",
    "## Output Format\n",
    "- Provide the complete solution code in **one markdown code block** with appropriate language identifier.\n",
    "- Handle the input and output as specified in the problem statement.\n",
    "- EXCLUDE ALL explanations and code comments.\n",
    "\"\"\""
   ]
  },
  {
   "cell_type": "code",
   "execution_count": 3,
   "metadata": {},
   "outputs": [],
   "source": [
    "EVALUATION_TEMPLATE = \"\"\"import io\n",
    "import sys\n",
    "import unittest\n",
    "\n",
    "def solution():\n",
    "{solution_code}\n",
    "\n",
    "class TestSolution(unittest.TestCase):\n",
    "    def run_io_fun(self, input_data):\n",
    "        backup_stdin = sys.stdin\n",
    "        backup_stdout = sys.stdout\n",
    "        try:\n",
    "            sys.stdin = io.StringIO(input_data)\n",
    "            output_catcher = io.StringIO()\n",
    "            sys.stdout = output_catcher\n",
    "\n",
    "            solution()\n",
    "\n",
    "            output_catcher.seek(0)\n",
    "            return output_catcher.read()\n",
    "        finally:\n",
    "            sys.stdin = backup_stdin\n",
    "            sys.stdout = backup_stdout\n",
    "\n",
    "def make_test_function(input_data, expected):\n",
    "    def test_function(self):\n",
    "        actual = self.run_io_fun(input_data)\n",
    "        self.assertEqual(expected, actual)\n",
    "    return test_function\n",
    "\n",
    "test_case_list = {test_case_list}\n",
    "test_case_list = test_case_list * {case_multiply}\n",
    "\n",
    "for i, case in enumerate(test_case_list, start=1):\n",
    "    test_name = f\"test_case_{{i}}\"\n",
    "    test_func = make_test_function(case['input'], case['output'])\n",
    "    setattr(TestSolution, test_name, test_func)\n",
    "\n",
    "if __name__ == '__main__':\n",
    "    result = unittest.main(verbosity=2, exit=False)\n",
    "    \n",
    "    # If all tests passed, print \"Success\".\n",
    "    if result.result.wasSuccessful():\n",
    "        print(\"Success\")\n",
    "    else:\n",
    "        print(\"Failed\")\n",
    "\"\"\""
   ]
  },
  {
   "cell_type": "code",
   "execution_count": 4,
   "metadata": {},
   "outputs": [],
   "source": [
    "def taco_sync_evaluation(solution_code: str, test_case_list_str, case_multiply: int, timeout: int) -> dict:\n",
    "    response = {'passed': False, 'time': float('inf'), 'memory': float('inf'), 'integral': float('inf'), 'status': 'error'}\n",
    "    try:\n",
    "        # Construct Test Code\n",
    "        solution_code = textwrap.indent(solution_code.strip(), \"\\t\")\n",
    "        test_code = EVALUATION_TEMPLATE.format(solution_code=solution_code, test_case_list=test_case_list_str, case_multiply=100)\n",
    "        \n",
    "        # Submit Test Code to Monolith\n",
    "        data = {\n",
    "            'code': test_code,\n",
    "            'language': 'python',\n",
    "            'libraries': [],\n",
    "            'timeout': timeout,\n",
    "            'run_profiling': True\n",
    "        }\n",
    "        monolith_response = requests.post(f'https://monolith.cool/execute', json=data, timeout=(120, timeout))\n",
    "        if monolith_response.status_code == 200:\n",
    "            monolith_response = monolith_response.json()\n",
    "\n",
    "            response['status'] = monolith_response['status']\n",
    "            if monolith_response[\"status\"] == \"success\":\n",
    "                response['passed'] = True if monolith_response['output_dict']['stdout'] == 'Success\\n' else False\n",
    "                response['time'] = monolith_response['output_dict']['duration']\n",
    "                response['memory'] = monolith_response['output_dict']['peak_memory']\n",
    "                response['integral'] = monolith_response['output_dict']['integral']\n",
    "        elif monolith_response.status_code == 413:\n",
    "            response['status'] = \"too large\"\n",
    "        else:\n",
    "            raise requests.exceptions.RequestException(\"API Error: \" + str(monolith_response.content), monolith_response.status_code)\n",
    "    except requests.exceptions.ReadTimeout as e:\n",
    "        response['status'] = 'timeout (server)'\n",
    "    except requests.exceptions.ConnectionError as e:\n",
    "        response['status'] = 'timeout (client)'\n",
    "    except Exception as e:\n",
    "        print(\"Evaluation Error: \", e)\n",
    "        response['status'] = 'error'\n",
    "    finally:\n",
    "        return response"
   ]
  },
  {
   "cell_type": "code",
   "execution_count": 5,
   "metadata": {},
   "outputs": [],
   "source": [
    "from datasets import load_dataset\n",
    "\n",
    "# Login using e.g. `huggingface-cli login` to access this dataset\n",
    "ds = load_dataset(\"Elfsong/TACO_Python\")"
   ]
  },
  {
   "cell_type": "code",
   "execution_count": null,
   "metadata": {},
   "outputs": [
    {
     "name": "stderr",
     "output_type": "stream",
     "text": [
      "  0%|          | 0/10466 [00:00<?, ?it/s]"
     ]
    },
    {
     "name": "stdout",
     "output_type": "stream",
     "text": [
      "failed\n",
      "failed\n",
      "failed\n"
     ]
    }
   ],
   "source": [
    "for instance in tqdm(ds['train']):\n",
    "    solutions = json.loads(instance['solutions'])\n",
    "    input_output = json.loads(instance['input_output'])\n",
    "    test_case_list_str = json.dumps([{\"input\": input_, \"output\": output_} for input_, output_ in zip(input_output['inputs'], input_output['outputs'])])\n",
    "    \n",
    "    for solution_code in solutions:\n",
    "        evaluation_code = EVALUATION_TEMPLATE.format(\n",
    "            solution_code=textwrap.indent(solution_code.strip(), \"\\t\"),\n",
    "            test_case_list=test_case_list_str,\n",
    "            case_multiply=1\n",
    "        )\n",
    "        \n",
    "        response = taco_sync_evaluation(solution_code=solution_code, test_case_list_str=test_case_list_str, case_multiply=1, timeout=30)\n",
    "        if response['passed']:\n",
    "            print(\"passed\")\n",
    "        else:\n",
    "            print(\"failed\")\n",
    "            "
   ]
  },
  {
   "cell_type": "code",
   "execution_count": null,
   "metadata": {},
   "outputs": [],
   "source": []
  }
 ],
 "metadata": {
  "kernelspec": {
   "display_name": "verl_env",
   "language": "python",
   "name": "python3"
  },
  "language_info": {
   "codemirror_mode": {
    "name": "ipython",
    "version": 3
   },
   "file_extension": ".py",
   "mimetype": "text/x-python",
   "name": "python",
   "nbconvert_exporter": "python",
   "pygments_lexer": "ipython3",
   "version": "3.10.0"
  }
 },
 "nbformat": 4,
 "nbformat_minor": 2
}
