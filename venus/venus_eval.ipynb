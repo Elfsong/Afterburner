{
 "cells": [
  {
   "cell_type": "code",
   "execution_count": 15,
   "metadata": {},
   "outputs": [],
   "source": [
    "import json\n",
    "from tqdm import tqdm\n",
    "from datasets import load_dataset"
   ]
  },
  {
   "cell_type": "code",
   "execution_count": 12,
   "metadata": {},
   "outputs": [],
   "source": [
    "ds = load_dataset(\"Elfsong/Venus\", \"python3\", split=\"train\")"
   ]
  },
  {
   "cell_type": "code",
   "execution_count": 26,
   "metadata": {},
   "outputs": [],
   "source": []
  },
  {
   "cell_type": "code",
   "execution_count": 27,
   "metadata": {},
   "outputs": [],
   "source": [
    "for instance in ds:\n",
    "    #  1) Metadata\n",
    "    question_id = instance[\"question_id\"]\n",
    "    question_content = instance[\"content\"]\n",
    "    difficulty = instance[\"difficulty\"]\n",
    "    topics = instance[\"topics\"]\n",
    "    rt_list = instance[\"rt_list\"]\n",
    "    mm_list = instance[\"mm_list\"]\n",
    "    code_prompt = instance[\"code_prompt\"]\n",
    "    solutions = [solution['code'] for solution in rt_list + mm_list if code_prompt in solution[\"code\"]]\n",
    "    \n",
    "    # 2) Generate Test Case Generator\n",
    "    \n",
    "    # 3) Generate Test Cases\n",
    "    \n",
    "    # 4) Evaluate Solutions"
   ]
  },
  {
   "cell_type": "code",
   "execution_count": null,
   "metadata": {},
   "outputs": [],
   "source": []
  }
 ],
 "metadata": {
  "kernelspec": {
   "display_name": "workspace",
   "language": "python",
   "name": "python3"
  },
  "language_info": {
   "codemirror_mode": {
    "name": "ipython",
    "version": 3
   },
   "file_extension": ".py",
   "mimetype": "text/x-python",
   "name": "python",
   "nbconvert_exporter": "python",
   "pygments_lexer": "ipython3",
   "version": "3.10.14"
  }
 },
 "nbformat": 4,
 "nbformat_minor": 2
}
